{
 "cells": [
  {
   "cell_type": "markdown",
   "id": "intermediate-poland",
   "metadata": {},
   "source": [
    "# ML Work"
   ]
  },
  {
   "cell_type": "markdown",
   "id": "backed-consortium",
   "metadata": {},
   "source": [
    "## Predicting total vaccinations administered per hundred and total people vaccinated per hundred based on happiness factors "
   ]
  },
  {
   "cell_type": "markdown",
   "id": "chinese-landscape",
   "metadata": {},
   "source": [
    "### Linear Regression"
   ]
  },
  {
   "cell_type": "code",
   "execution_count": 40,
   "id": "macro-minnesota",
   "metadata": {},
   "outputs": [
    {
     "name": "stdout",
     "output_type": "stream",
     "text": [
      "Index(['location', 'Regional indicator', 'Ladder score',\n",
      "       'Standard error of ladder score', 'upperwhisker', 'lowerwhisker',\n",
      "       'Logged GDP per capita', 'Social support', 'Healthy life expectancy',\n",
      "       'Freedom to make life choices', 'Generosity',\n",
      "       'Perceptions of corruption', 'Ladder score in Dystopia',\n",
      "       'Explained by: Log GDP per capita', 'Explained by: Social support',\n",
      "       'Explained by: Healthy life expectancy',\n",
      "       'Explained by: Freedom to make life choices',\n",
      "       'Explained by: Generosity', 'Explained by: Perceptions of corruption',\n",
      "       'Dystopia + residual', 'total_vaccinations_per_hundred',\n",
      "       'people_vaccinated_per_hundred'],\n",
      "      dtype='object')\n"
     ]
    }
   ],
   "source": [
    "import pandas as pd\n",
    "import seaborn as sns\n",
    "from sklearn.model_selection import train_test_split\n",
    "from sklearn.preprocessing import StandardScaler\n",
    "# import and prepare data\n",
    "happiness = pd.read_csv('happiness.csv')\n",
    "vaccinations = pd.read_csv('country_vaccinations.csv')\n",
    "vaccinations.head()\n",
    "total_vaccinations = vaccinations.groupby('country').max()[['total_vaccinations_per_hundred', 'people_vaccinated_per_hundred']]\n",
    "merged = pd.merge(happiness, total_vaccinations, left_on='location', right_on='country').dropna()\n",
    "data = merged[['Ladder score','Logged GDP per capita',  'Social support', 'Healthy life expectancy',\n",
    "       'Freedom to make life choices', 'Generosity', 'Perceptions of corruption', 'Ladder score in Dystopia', 'Explained by: Log GDP per capita', 'Explained by: Social support',\n",
    "       'Explained by: Healthy life expectancy',\n",
    "       'Explained by: Freedom to make life choices',\n",
    "       'Explained by: Generosity', 'Explained by: Perceptions of corruption']].values\n",
    "data = StandardScaler().fit_transform(data)\n",
    "target = merged[['total_vaccinations_per_hundred',\n",
    "       'people_vaccinated_per_hundred']].values\n",
    "train_data, test_data, train_target, test_target = train_test_split(data, target, test_size=.5, random_state=216)\n",
    "print(merged.columns)"
   ]
  },
  {
   "cell_type": "code",
   "execution_count": 41,
   "id": "subject-tournament",
   "metadata": {},
   "outputs": [
    {
     "name": "stdout",
     "output_type": "stream",
     "text": [
      "MSE: 315.27963420569324\n",
      "r2: -0.13579171458294548\n"
     ]
    }
   ],
   "source": [
    "# Training and Predicting model\n",
    "from sklearn.linear_model import LinearRegression\n",
    "from sklearn.metrics import mean_squared_error, r2_score\n",
    "model = LinearRegression().fit(X=train_data, y=train_target)\n",
    "predicted = model.predict(test_data)\n",
    "print('MSE:', mean_squared_error(test_target, predicted))\n",
    "print('r2:', r2_score(test_target, predicted))"
   ]
  },
  {
   "cell_type": "markdown",
   "id": "invisible-hydrogen",
   "metadata": {},
   "source": [
    "### K Nearest Neighbors"
   ]
  },
  {
   "cell_type": "code",
   "execution_count": 45,
   "id": "decreased-affiliation",
   "metadata": {},
   "outputs": [
    {
     "name": "stdout",
     "output_type": "stream",
     "text": [
      "{'n_neighbors': 3}\n",
      "MSE: 235.7241603174603\n",
      "r2: 0.16054880797772025\n"
     ]
    }
   ],
   "source": [
    "from sklearn.model_selection import GridSearchCV\n",
    "from sklearn.neighbors import KNeighborsRegressor\n",
    "knn = GridSearchCV(estimator=KNeighborsRegressor(), param_grid={'n_neighbors': range(1,15)})\n",
    "knn.fit(X=train_data, y=train_target)\n",
    "knn_predicted = knn.predict(test_data)\n",
    "print(knn.best_params_)\n",
    "print('MSE:', mean_squared_error(test_target, knn_predicted))\n",
    "print('r2:', r2_score(test_target, knn_predicted))"
   ]
  },
  {
   "cell_type": "markdown",
   "id": "continued-entity",
   "metadata": {},
   "source": [
    "### Polynomial Features"
   ]
  },
  {
   "cell_type": "code",
   "execution_count": 43,
   "id": "civic-evening",
   "metadata": {},
   "outputs": [
    {
     "name": "stdout",
     "output_type": "stream",
     "text": [
      "For Degree =  2\n",
      "MSE: 7189.473134979971\n",
      "r2: -26.710660085786323\n",
      "\n",
      "\n",
      "For Degree =  3\n",
      "MSE: 10186.588166849699\n",
      "r2: -39.68558834049345\n",
      "\n",
      "\n",
      "For Degree =  4\n",
      "MSE: 17277.88573069532\n",
      "r2: -71.59135689966418\n",
      "\n",
      "\n",
      "For Degree =  5\n",
      "MSE: 127284.86183685268\n",
      "r2: -425.8150254406695\n",
      "\n",
      "\n",
      "For Degree =  6\n",
      "MSE: 2319166.7700975817\n",
      "r2: -9704.237106106655\n",
      "\n",
      "\n",
      "For Degree =  7\n",
      "MSE: 12474987.207826631\n",
      "r2: -37248.025420807564\n",
      "\n",
      "\n",
      "For Degree =  8\n",
      "MSE: 293889209.93946934\n",
      "r2: -1244883.8800865812\n",
      "\n",
      "\n",
      "For Degree =  9\n",
      "MSE: 434725776.4302221\n",
      "r2: -1043311.1381028489\n",
      "\n",
      "\n"
     ]
    }
   ],
   "source": [
    "from sklearn.preprocessing import PolynomialFeatures \n",
    "for i in range(2,10):\n",
    "    deg = i\n",
    "    poly_train_data = PolynomialFeatures(deg, include_bias=False).fit_transform(train_data)\n",
    "    poly_model = LinearRegression()\n",
    "    poly_model.fit(X=poly_train_data, y=train_target)\n",
    "    poly_test_data=PolynomialFeatures(deg, include_bias=False).fit_transform(test_data)\n",
    "    poly_predicted = poly_model.predict(poly_test_data)\n",
    "    print('For Degree = ', deg)\n",
    "    print('MSE:', mean_squared_error(test_target, poly_predicted))\n",
    "    print('r2:', r2_score(test_target, poly_predicted))\n",
    "    print('\\n')"
   ]
  },
  {
   "cell_type": "code",
   "execution_count": null,
   "id": "published-jones",
   "metadata": {},
   "outputs": [],
   "source": []
  }
 ],
 "metadata": {
  "kernelspec": {
   "display_name": "Python 3",
   "language": "python",
   "name": "python3"
  },
  "language_info": {
   "codemirror_mode": {
    "name": "ipython",
    "version": 3
   },
   "file_extension": ".py",
   "mimetype": "text/x-python",
   "name": "python",
   "nbconvert_exporter": "python",
   "pygments_lexer": "ipython3",
   "version": "3.8.3"
  }
 },
 "nbformat": 4,
 "nbformat_minor": 5
}
