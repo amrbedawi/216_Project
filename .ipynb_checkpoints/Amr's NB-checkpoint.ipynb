{
 "cells": [
  {
   "cell_type": "markdown",
   "id": "affected-prior",
   "metadata": {},
   "source": [
    "# ML Work"
   ]
  },
  {
   "cell_type": "markdown",
   "id": "bored-tutorial",
   "metadata": {},
   "source": [
    "## Predicting total vaccinations administered per hundred and total people vaccinated per hundred based on happiness factors "
   ]
  },
  {
   "cell_type": "markdown",
   "id": "industrial-trademark",
   "metadata": {},
   "source": [
    "### Linear Regression"
   ]
  },
  {
   "cell_type": "code",
   "execution_count": 76,
   "id": "structural-defeat",
   "metadata": {},
   "outputs": [
    {
     "name": "stdout",
     "output_type": "stream",
     "text": [
      "Index(['location', 'Regional indicator', 'Ladder score',\n",
      "       'Standard error of ladder score', 'upperwhisker', 'lowerwhisker',\n",
      "       'Logged GDP per capita', 'Social support', 'Healthy life expectancy',\n",
      "       'Freedom to make life choices', 'Generosity',\n",
      "       'Perceptions of corruption', 'Ladder score in Dystopia',\n",
      "       'Explained by: Log GDP per capita', 'Explained by: Social support',\n",
      "       'Explained by: Healthy life expectancy',\n",
      "       'Explained by: Freedom to make life choices',\n",
      "       'Explained by: Generosity', 'Explained by: Perceptions of corruption',\n",
      "       'Dystopia + residual', 'total_vaccinations_per_hundred',\n",
      "       'people_vaccinated_per_hundred'],\n",
      "      dtype='object')\n"
     ]
    }
   ],
   "source": [
    "import pandas as pd\n",
    "import seaborn as sns\n",
    "from sklearn.model_selection import train_test_split\n",
    "from sklearn.preprocessing import StandardScaler\n",
    "# import and prepare data\n",
    "happiness = pd.read_csv('happiness.csv')\n",
    "vaccinations = pd.read_csv('country_vaccinations.csv')\n",
    "vaccinations.head()\n",
    "total_vaccinations = vaccinations.groupby('country').max()[['total_vaccinations_per_hundred', 'people_vaccinated_per_hundred']]\n",
    "merged = pd.merge(happiness, total_vaccinations, left_on='location', right_on='country').dropna()\n",
    "data = merged[['Ladder score','Logged GDP per capita',  'Social support', 'Healthy life expectancy',\n",
    "       'Freedom to make life choices', 'Generosity', 'Perceptions of corruption', 'Ladder score in Dystopia']].values\n",
    "data = StandardScaler().fit_transform(data)\n",
    "target = merged[['total_vaccinations_per_hundred',\n",
    "       'people_vaccinated_per_hundred']].values\n",
    "train_data, test_data, train_target, test_target = train_test_split(data, target, test_size=.5, random_state=216)\n",
    "print(merged.columns)"
   ]
  },
  {
   "cell_type": "code",
   "execution_count": 77,
   "id": "outstanding-brazil",
   "metadata": {},
   "outputs": [
    {
     "name": "stdout",
     "output_type": "stream",
     "text": [
      "MSE: 245.87088875973546\n",
      "r2: 0.12148253000903869\n"
     ]
    }
   ],
   "source": [
    "# Training and Predicting model\n",
    "from sklearn.linear_model import LinearRegression\n",
    "from sklearn.metrics import mean_squared_error, r2_score\n",
    "model = LinearRegression().fit(X=train_data, y=train_target)\n",
    "predicted = model.predict(test_data)\n",
    "print('MSE:', mean_squared_error(test_target, predicted))\n",
    "print('r2:', r2_score(test_target, predicted))"
   ]
  },
  {
   "cell_type": "markdown",
   "id": "international-express",
   "metadata": {},
   "source": [
    "### Using K Nearest Neighbors"
   ]
  },
  {
   "cell_type": "code",
   "execution_count": 90,
   "id": "married-overview",
   "metadata": {},
   "outputs": [
    {
     "name": "stdout",
     "output_type": "stream",
     "text": [
      "MSE: 282.95733852040814\n",
      "r2: -0.009867530691755277\n"
     ]
    }
   ],
   "source": [
    "from sklearn.model_selection import GridSearchCV\n",
    "from sklearn.neighbors import KNeighborsRegressor\n",
    "knn = GridSearchCV(estimator=KNeighborsRegressor(), param_grid={'n_neighbors': range(1,15)})\n",
    "knn.fit(X=train_data, y=train_target)\n",
    "knn_predicted = knn.predict(test_data)\n",
    "print('MSE:', mean_squared_error(test_target, knn_predicted))\n",
    "print('r2:', r2_score(test_target, knn_predicted))"
   ]
  },
  {
   "cell_type": "code",
   "execution_count": null,
   "id": "marked-service",
   "metadata": {},
   "outputs": [],
   "source": []
  }
 ],
 "metadata": {
  "kernelspec": {
   "display_name": "Python 3",
   "language": "python",
   "name": "python3"
  },
  "language_info": {
   "codemirror_mode": {
    "name": "ipython",
    "version": 3
   },
   "file_extension": ".py",
   "mimetype": "text/x-python",
   "name": "python",
   "nbconvert_exporter": "python",
   "pygments_lexer": "ipython3",
   "version": "3.8.3"
  }
 },
 "nbformat": 4,
 "nbformat_minor": 5
}
