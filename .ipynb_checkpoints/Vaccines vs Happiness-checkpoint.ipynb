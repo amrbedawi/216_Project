{
 "cells": [
  {
   "cell_type": "code",
   "execution_count": 1,
   "metadata": {},
   "outputs": [],
   "source": [
    "import numpy as np\n",
    "import seaborn as sns\n",
    "import pandas as pd\n",
    "import matplotlib.pyplot as plt"
   ]
  },
  {
   "cell_type": "code",
   "execution_count": 2,
   "metadata": {},
   "outputs": [],
   "source": [
    "df = pd.read_csv('country_vaccinations.csv')\n",
    "whr21 = pd.read_excel('DataPanelWHR2021C2.xls')\n",
    "whr21_2020 = whr21[whr21['year']==2019]"
   ]
  },
  {
   "cell_type": "code",
   "execution_count": 3,
   "metadata": {},
   "outputs": [
    {
     "data": {
      "text/html": [
       "<div>\n",
       "<style scoped>\n",
       "    .dataframe tbody tr th:only-of-type {\n",
       "        vertical-align: middle;\n",
       "    }\n",
       "\n",
       "    .dataframe tbody tr th {\n",
       "        vertical-align: top;\n",
       "    }\n",
       "\n",
       "    .dataframe thead th {\n",
       "        text-align: right;\n",
       "    }\n",
       "</style>\n",
       "<table border=\"1\" class=\"dataframe\">\n",
       "  <thead>\n",
       "    <tr style=\"text-align: right;\">\n",
       "      <th></th>\n",
       "      <th>people_fully_vaccinated_per_hundred</th>\n",
       "    </tr>\n",
       "    <tr>\n",
       "      <th>country</th>\n",
       "      <th></th>\n",
       "    </tr>\n",
       "  </thead>\n",
       "  <tbody>\n",
       "    <tr>\n",
       "      <th>Argentina</th>\n",
       "      <td>1.57</td>\n",
       "    </tr>\n",
       "    <tr>\n",
       "      <th>Austria</th>\n",
       "      <td>6.10</td>\n",
       "    </tr>\n",
       "    <tr>\n",
       "      <th>Azerbaijan</th>\n",
       "      <td>3.92</td>\n",
       "    </tr>\n",
       "    <tr>\n",
       "      <th>Bahrain</th>\n",
       "      <td>21.27</td>\n",
       "    </tr>\n",
       "    <tr>\n",
       "      <th>Belgium</th>\n",
       "      <td>5.22</td>\n",
       "    </tr>\n",
       "    <tr>\n",
       "      <th>...</th>\n",
       "      <td>...</td>\n",
       "    </tr>\n",
       "    <tr>\n",
       "      <th>United Kingdom</th>\n",
       "      <td>9.64</td>\n",
       "    </tr>\n",
       "    <tr>\n",
       "      <th>United States</th>\n",
       "      <td>20.39</td>\n",
       "    </tr>\n",
       "    <tr>\n",
       "      <th>Uruguay</th>\n",
       "      <td>5.46</td>\n",
       "    </tr>\n",
       "    <tr>\n",
       "      <th>Wales</th>\n",
       "      <td>15.81</td>\n",
       "    </tr>\n",
       "    <tr>\n",
       "      <th>Zimbabwe</th>\n",
       "      <td>0.18</td>\n",
       "    </tr>\n",
       "  </tbody>\n",
       "</table>\n",
       "<p>93 rows × 1 columns</p>\n",
       "</div>"
      ],
      "text/plain": [
       "                people_fully_vaccinated_per_hundred\n",
       "country                                            \n",
       "Argentina                                      1.57\n",
       "Austria                                        6.10\n",
       "Azerbaijan                                     3.92\n",
       "Bahrain                                       21.27\n",
       "Belgium                                        5.22\n",
       "...                                             ...\n",
       "United Kingdom                                 9.64\n",
       "United States                                 20.39\n",
       "Uruguay                                        5.46\n",
       "Wales                                         15.81\n",
       "Zimbabwe                                       0.18\n",
       "\n",
       "[93 rows x 1 columns]"
      ]
     },
     "execution_count": 3,
     "metadata": {},
     "output_type": "execute_result"
    }
   ],
   "source": [
    "# Extract fully vaccinated per hundred as of April 1-11, whatever is the highest.\n",
    "fv = df[(df['date']>='2021-04-01') & (df['date']<='2021-04-11')]\n",
    "fv = fv[['country','people_fully_vaccinated_per_hundred']]\n",
    "fv = fv.groupby('country').max().dropna()\n",
    "fv"
   ]
  },
  {
   "cell_type": "code",
   "execution_count": 4,
   "metadata": {},
   "outputs": [
    {
     "data": {
      "text/html": [
       "<div>\n",
       "<style scoped>\n",
       "    .dataframe tbody tr th:only-of-type {\n",
       "        vertical-align: middle;\n",
       "    }\n",
       "\n",
       "    .dataframe tbody tr th {\n",
       "        vertical-align: top;\n",
       "    }\n",
       "\n",
       "    .dataframe thead th {\n",
       "        text-align: right;\n",
       "    }\n",
       "</style>\n",
       "<table border=\"1\" class=\"dataframe\">\n",
       "  <thead>\n",
       "    <tr style=\"text-align: right;\">\n",
       "      <th></th>\n",
       "      <th>people_vaccinated_per_hundred</th>\n",
       "    </tr>\n",
       "    <tr>\n",
       "      <th>country</th>\n",
       "      <th></th>\n",
       "    </tr>\n",
       "  </thead>\n",
       "  <tbody>\n",
       "    <tr>\n",
       "      <th>Afghanistan</th>\n",
       "      <td>0.31</td>\n",
       "    </tr>\n",
       "    <tr>\n",
       "      <th>Angola</th>\n",
       "      <td>0.55</td>\n",
       "    </tr>\n",
       "    <tr>\n",
       "      <th>Argentina</th>\n",
       "      <td>9.39</td>\n",
       "    </tr>\n",
       "    <tr>\n",
       "      <th>Austria</th>\n",
       "      <td>15.52</td>\n",
       "    </tr>\n",
       "    <tr>\n",
       "      <th>Azerbaijan</th>\n",
       "      <td>6.63</td>\n",
       "    </tr>\n",
       "    <tr>\n",
       "      <th>...</th>\n",
       "      <td>...</td>\n",
       "    </tr>\n",
       "    <tr>\n",
       "      <th>Uzbekistan</th>\n",
       "      <td>0.10</td>\n",
       "    </tr>\n",
       "    <tr>\n",
       "      <th>Venezuela</th>\n",
       "      <td>0.34</td>\n",
       "    </tr>\n",
       "    <tr>\n",
       "      <th>Vietnam</th>\n",
       "      <td>0.06</td>\n",
       "    </tr>\n",
       "    <tr>\n",
       "      <th>Wales</th>\n",
       "      <td>48.75</td>\n",
       "    </tr>\n",
       "    <tr>\n",
       "      <th>Zimbabwe</th>\n",
       "      <td>1.03</td>\n",
       "    </tr>\n",
       "  </tbody>\n",
       "</table>\n",
       "<p>134 rows × 1 columns</p>\n",
       "</div>"
      ],
      "text/plain": [
       "             people_vaccinated_per_hundred\n",
       "country                                   \n",
       "Afghanistan                           0.31\n",
       "Angola                                0.55\n",
       "Argentina                             9.39\n",
       "Austria                              15.52\n",
       "Azerbaijan                            6.63\n",
       "...                                    ...\n",
       "Uzbekistan                            0.10\n",
       "Venezuela                             0.34\n",
       "Vietnam                               0.06\n",
       "Wales                                48.75\n",
       "Zimbabwe                              1.03\n",
       "\n",
       "[134 rows x 1 columns]"
      ]
     },
     "execution_count": 4,
     "metadata": {},
     "output_type": "execute_result"
    }
   ],
   "source": [
    "# Extract vaccinated per hundred as of April 1-11, whatever is the highest.\n",
    "v = df[(df['date']>='2021-04-01') & (df['date']<='2021-04-11')]\n",
    "v = v[['country','people_vaccinated_per_hundred']]\n",
    "v = v.groupby('country').max().dropna()\n",
    "v"
   ]
  },
  {
   "cell_type": "code",
   "execution_count": 5,
   "metadata": {},
   "outputs": [
    {
     "data": {
      "text/html": [
       "<div>\n",
       "<style scoped>\n",
       "    .dataframe tbody tr th:only-of-type {\n",
       "        vertical-align: middle;\n",
       "    }\n",
       "\n",
       "    .dataframe tbody tr th {\n",
       "        vertical-align: top;\n",
       "    }\n",
       "\n",
       "    .dataframe thead th {\n",
       "        text-align: right;\n",
       "    }\n",
       "</style>\n",
       "<table border=\"1\" class=\"dataframe\">\n",
       "  <thead>\n",
       "    <tr style=\"text-align: right;\">\n",
       "      <th></th>\n",
       "      <th>daily_vaccinations_per_million</th>\n",
       "    </tr>\n",
       "    <tr>\n",
       "      <th>country</th>\n",
       "      <th></th>\n",
       "    </tr>\n",
       "  </thead>\n",
       "  <tbody>\n",
       "    <tr>\n",
       "      <th>Afghanistan</th>\n",
       "      <td>77.000000</td>\n",
       "    </tr>\n",
       "    <tr>\n",
       "      <th>Albania</th>\n",
       "      <td>5293.857143</td>\n",
       "    </tr>\n",
       "    <tr>\n",
       "      <th>Andorra</th>\n",
       "      <td>2550.000000</td>\n",
       "    </tr>\n",
       "    <tr>\n",
       "      <th>Angola</th>\n",
       "      <td>210.666667</td>\n",
       "    </tr>\n",
       "    <tr>\n",
       "      <th>Argentina</th>\n",
       "      <td>2022.000000</td>\n",
       "    </tr>\n",
       "    <tr>\n",
       "      <th>...</th>\n",
       "      <td>...</td>\n",
       "    </tr>\n",
       "    <tr>\n",
       "      <th>Uzbekistan</th>\n",
       "      <td>174.000000</td>\n",
       "    </tr>\n",
       "    <tr>\n",
       "      <th>Venezuela</th>\n",
       "      <td>391.000000</td>\n",
       "    </tr>\n",
       "    <tr>\n",
       "      <th>Vietnam</th>\n",
       "      <td>10.428571</td>\n",
       "    </tr>\n",
       "    <tr>\n",
       "      <th>Wales</th>\n",
       "      <td>6458.142857</td>\n",
       "    </tr>\n",
       "    <tr>\n",
       "      <th>Zimbabwe</th>\n",
       "      <td>619.000000</td>\n",
       "    </tr>\n",
       "  </tbody>\n",
       "</table>\n",
       "<p>145 rows × 1 columns</p>\n",
       "</div>"
      ],
      "text/plain": [
       "             daily_vaccinations_per_million\n",
       "country                                    \n",
       "Afghanistan                       77.000000\n",
       "Albania                         5293.857143\n",
       "Andorra                         2550.000000\n",
       "Angola                           210.666667\n",
       "Argentina                       2022.000000\n",
       "...                                     ...\n",
       "Uzbekistan                       174.000000\n",
       "Venezuela                        391.000000\n",
       "Vietnam                           10.428571\n",
       "Wales                           6458.142857\n",
       "Zimbabwe                         619.000000\n",
       "\n",
       "[145 rows x 1 columns]"
      ]
     },
     "execution_count": 5,
     "metadata": {},
     "output_type": "execute_result"
    }
   ],
   "source": [
    "# Extract average daily vaccinations per million between April 1 and 7\n",
    "dv = df[(df['date']>='2021-04-01') & (df['date']<='2021-04-07')]\n",
    "dv = dv[['date','country','daily_vaccinations_per_million']].dropna()\n",
    "dv = dv.groupby('country').mean()\n",
    "dv"
   ]
  },
  {
   "cell_type": "markdown",
   "metadata": {},
   "source": [
    "Now, combine these three tables into one table, then combine with WHR data"
   ]
  },
  {
   "cell_type": "code",
   "execution_count": 6,
   "metadata": {},
   "outputs": [],
   "source": [
    "vac_data = pd.merge(fv, v, on='country', how='outer')\n",
    "vac_data = pd.merge(vac_data, dv, on='country', how='outer')\n",
    "vac_data.columns = ['fully_vac_per_100', 'vac_per_100', 'avg_daily_vacc_per_million']"
   ]
  },
  {
   "cell_type": "code",
   "execution_count": 7,
   "metadata": {},
   "outputs": [
    {
     "data": {
      "text/html": [
       "<div>\n",
       "<style scoped>\n",
       "    .dataframe tbody tr th:only-of-type {\n",
       "        vertical-align: middle;\n",
       "    }\n",
       "\n",
       "    .dataframe tbody tr th {\n",
       "        vertical-align: top;\n",
       "    }\n",
       "\n",
       "    .dataframe thead th {\n",
       "        text-align: right;\n",
       "    }\n",
       "</style>\n",
       "<table border=\"1\" class=\"dataframe\">\n",
       "  <thead>\n",
       "    <tr style=\"text-align: right;\">\n",
       "      <th></th>\n",
       "      <th>fully_vac_per_100</th>\n",
       "      <th>vac_per_100</th>\n",
       "      <th>avg_daily_vacc_per_million</th>\n",
       "    </tr>\n",
       "    <tr>\n",
       "      <th>country</th>\n",
       "      <th></th>\n",
       "      <th></th>\n",
       "      <th></th>\n",
       "    </tr>\n",
       "  </thead>\n",
       "  <tbody>\n",
       "    <tr>\n",
       "      <th>Argentina</th>\n",
       "      <td>1.57</td>\n",
       "      <td>9.39</td>\n",
       "      <td>2022.000000</td>\n",
       "    </tr>\n",
       "    <tr>\n",
       "      <th>Austria</th>\n",
       "      <td>6.10</td>\n",
       "      <td>15.52</td>\n",
       "      <td>3452.571429</td>\n",
       "    </tr>\n",
       "    <tr>\n",
       "      <th>Azerbaijan</th>\n",
       "      <td>3.92</td>\n",
       "      <td>6.63</td>\n",
       "      <td>4309.142857</td>\n",
       "    </tr>\n",
       "    <tr>\n",
       "      <th>Bahrain</th>\n",
       "      <td>21.27</td>\n",
       "      <td>32.75</td>\n",
       "      <td>7100.000000</td>\n",
       "    </tr>\n",
       "    <tr>\n",
       "      <th>Belgium</th>\n",
       "      <td>5.22</td>\n",
       "      <td>14.47</td>\n",
       "      <td>3958.000000</td>\n",
       "    </tr>\n",
       "    <tr>\n",
       "      <th>...</th>\n",
       "      <td>...</td>\n",
       "      <td>...</td>\n",
       "      <td>...</td>\n",
       "    </tr>\n",
       "    <tr>\n",
       "      <th>Mongolia</th>\n",
       "      <td>NaN</td>\n",
       "      <td>NaN</td>\n",
       "      <td>4927.714286</td>\n",
       "    </tr>\n",
       "    <tr>\n",
       "      <th>Qatar</th>\n",
       "      <td>NaN</td>\n",
       "      <td>NaN</td>\n",
       "      <td>8346.714286</td>\n",
       "    </tr>\n",
       "    <tr>\n",
       "      <th>Saint Lucia</th>\n",
       "      <td>NaN</td>\n",
       "      <td>NaN</td>\n",
       "      <td>847.142857</td>\n",
       "    </tr>\n",
       "    <tr>\n",
       "      <th>Saudi Arabia</th>\n",
       "      <td>NaN</td>\n",
       "      <td>NaN</td>\n",
       "      <td>3730.571429</td>\n",
       "    </tr>\n",
       "    <tr>\n",
       "      <th>United Arab Emirates</th>\n",
       "      <td>NaN</td>\n",
       "      <td>NaN</td>\n",
       "      <td>7737.428571</td>\n",
       "    </tr>\n",
       "  </tbody>\n",
       "</table>\n",
       "<p>146 rows × 3 columns</p>\n",
       "</div>"
      ],
      "text/plain": [
       "                      fully_vac_per_100  vac_per_100  \\\n",
       "country                                                \n",
       "Argentina                          1.57         9.39   \n",
       "Austria                            6.10        15.52   \n",
       "Azerbaijan                         3.92         6.63   \n",
       "Bahrain                           21.27        32.75   \n",
       "Belgium                            5.22        14.47   \n",
       "...                                 ...          ...   \n",
       "Mongolia                            NaN          NaN   \n",
       "Qatar                               NaN          NaN   \n",
       "Saint Lucia                         NaN          NaN   \n",
       "Saudi Arabia                        NaN          NaN   \n",
       "United Arab Emirates                NaN          NaN   \n",
       "\n",
       "                      avg_daily_vacc_per_million  \n",
       "country                                           \n",
       "Argentina                            2022.000000  \n",
       "Austria                              3452.571429  \n",
       "Azerbaijan                           4309.142857  \n",
       "Bahrain                              7100.000000  \n",
       "Belgium                              3958.000000  \n",
       "...                                          ...  \n",
       "Mongolia                             4927.714286  \n",
       "Qatar                                8346.714286  \n",
       "Saint Lucia                           847.142857  \n",
       "Saudi Arabia                         3730.571429  \n",
       "United Arab Emirates                 7737.428571  \n",
       "\n",
       "[146 rows x 3 columns]"
      ]
     },
     "execution_count": 7,
     "metadata": {},
     "output_type": "execute_result"
    }
   ],
   "source": [
    "vac_data"
   ]
  },
  {
   "cell_type": "code",
   "execution_count": 8,
   "metadata": {},
   "outputs": [
    {
     "data": {
      "text/html": [
       "<div>\n",
       "<style scoped>\n",
       "    .dataframe tbody tr th:only-of-type {\n",
       "        vertical-align: middle;\n",
       "    }\n",
       "\n",
       "    .dataframe tbody tr th {\n",
       "        vertical-align: top;\n",
       "    }\n",
       "\n",
       "    .dataframe thead th {\n",
       "        text-align: right;\n",
       "    }\n",
       "</style>\n",
       "<table border=\"1\" class=\"dataframe\">\n",
       "  <thead>\n",
       "    <tr style=\"text-align: right;\">\n",
       "      <th></th>\n",
       "      <th>fully_vac_per_100</th>\n",
       "      <th>vac_per_100</th>\n",
       "      <th>avg_daily_vacc_per_million</th>\n",
       "      <th>Country name</th>\n",
       "      <th>year</th>\n",
       "      <th>Life Ladder</th>\n",
       "      <th>Log GDP per capita</th>\n",
       "      <th>Social support</th>\n",
       "      <th>Healthy life expectancy at birth</th>\n",
       "      <th>Freedom to make life choices</th>\n",
       "      <th>Generosity</th>\n",
       "      <th>Perceptions of corruption</th>\n",
       "      <th>Positive affect</th>\n",
       "      <th>Negative affect</th>\n",
       "    </tr>\n",
       "  </thead>\n",
       "  <tbody>\n",
       "    <tr>\n",
       "      <th>0</th>\n",
       "      <td>1.57</td>\n",
       "      <td>9.39</td>\n",
       "      <td>2022.000000</td>\n",
       "      <td>Argentina</td>\n",
       "      <td>2019</td>\n",
       "      <td>6.085561</td>\n",
       "      <td>10.000340</td>\n",
       "      <td>0.896371</td>\n",
       "      <td>69.000000</td>\n",
       "      <td>0.817053</td>\n",
       "      <td>-0.210719</td>\n",
       "      <td>0.830460</td>\n",
       "      <td>0.825965</td>\n",
       "      <td>0.319055</td>\n",
       "    </tr>\n",
       "    <tr>\n",
       "      <th>1</th>\n",
       "      <td>6.10</td>\n",
       "      <td>15.52</td>\n",
       "      <td>3452.571429</td>\n",
       "      <td>Austria</td>\n",
       "      <td>2019</td>\n",
       "      <td>7.195361</td>\n",
       "      <td>10.939381</td>\n",
       "      <td>0.964489</td>\n",
       "      <td>73.300003</td>\n",
       "      <td>0.903428</td>\n",
       "      <td>0.059686</td>\n",
       "      <td>0.457089</td>\n",
       "      <td>0.774459</td>\n",
       "      <td>0.205170</td>\n",
       "    </tr>\n",
       "    <tr>\n",
       "      <th>2</th>\n",
       "      <td>3.92</td>\n",
       "      <td>6.63</td>\n",
       "      <td>4309.142857</td>\n",
       "      <td>Azerbaijan</td>\n",
       "      <td>2019</td>\n",
       "      <td>5.173389</td>\n",
       "      <td>9.575251</td>\n",
       "      <td>0.886756</td>\n",
       "      <td>65.800003</td>\n",
       "      <td>0.854249</td>\n",
       "      <td>-0.214163</td>\n",
       "      <td>0.457261</td>\n",
       "      <td>0.642547</td>\n",
       "      <td>0.163920</td>\n",
       "    </tr>\n",
       "    <tr>\n",
       "      <th>3</th>\n",
       "      <td>21.27</td>\n",
       "      <td>32.75</td>\n",
       "      <td>7100.000000</td>\n",
       "      <td>Bahrain</td>\n",
       "      <td>2019</td>\n",
       "      <td>7.098012</td>\n",
       "      <td>10.714991</td>\n",
       "      <td>0.877929</td>\n",
       "      <td>69.300003</td>\n",
       "      <td>0.906536</td>\n",
       "      <td>0.047863</td>\n",
       "      <td>NaN</td>\n",
       "      <td>0.761623</td>\n",
       "      <td>0.317106</td>\n",
       "    </tr>\n",
       "    <tr>\n",
       "      <th>4</th>\n",
       "      <td>5.22</td>\n",
       "      <td>14.47</td>\n",
       "      <td>3958.000000</td>\n",
       "      <td>Belgium</td>\n",
       "      <td>2019</td>\n",
       "      <td>6.772138</td>\n",
       "      <td>10.853364</td>\n",
       "      <td>0.884230</td>\n",
       "      <td>72.199997</td>\n",
       "      <td>0.776204</td>\n",
       "      <td>-0.171521</td>\n",
       "      <td>0.672498</td>\n",
       "      <td>0.733456</td>\n",
       "      <td>0.243631</td>\n",
       "    </tr>\n",
       "    <tr>\n",
       "      <th>...</th>\n",
       "      <td>...</td>\n",
       "      <td>...</td>\n",
       "      <td>...</td>\n",
       "      <td>...</td>\n",
       "      <td>...</td>\n",
       "      <td>...</td>\n",
       "      <td>...</td>\n",
       "      <td>...</td>\n",
       "      <td>...</td>\n",
       "      <td>...</td>\n",
       "      <td>...</td>\n",
       "      <td>...</td>\n",
       "      <td>...</td>\n",
       "      <td>...</td>\n",
       "    </tr>\n",
       "    <tr>\n",
       "      <th>100</th>\n",
       "      <td>NaN</td>\n",
       "      <td>NaN</td>\n",
       "      <td>23.000000</td>\n",
       "      <td>Egypt</td>\n",
       "      <td>2019</td>\n",
       "      <td>4.327832</td>\n",
       "      <td>9.372736</td>\n",
       "      <td>0.772129</td>\n",
       "      <td>62.000000</td>\n",
       "      <td>0.773951</td>\n",
       "      <td>-0.198710</td>\n",
       "      <td>NaN</td>\n",
       "      <td>0.516831</td>\n",
       "      <td>0.312763</td>\n",
       "    </tr>\n",
       "    <tr>\n",
       "      <th>101</th>\n",
       "      <td>NaN</td>\n",
       "      <td>NaN</td>\n",
       "      <td>192.333333</td>\n",
       "      <td>Guinea</td>\n",
       "      <td>2019</td>\n",
       "      <td>4.767684</td>\n",
       "      <td>7.849340</td>\n",
       "      <td>0.655124</td>\n",
       "      <td>55.500000</td>\n",
       "      <td>0.691399</td>\n",
       "      <td>0.096817</td>\n",
       "      <td>0.755585</td>\n",
       "      <td>0.684647</td>\n",
       "      <td>0.473388</td>\n",
       "    </tr>\n",
       "    <tr>\n",
       "      <th>102</th>\n",
       "      <td>NaN</td>\n",
       "      <td>NaN</td>\n",
       "      <td>4927.714286</td>\n",
       "      <td>Mongolia</td>\n",
       "      <td>2019</td>\n",
       "      <td>5.562905</td>\n",
       "      <td>9.418149</td>\n",
       "      <td>0.945758</td>\n",
       "      <td>62.500000</td>\n",
       "      <td>0.710675</td>\n",
       "      <td>0.148912</td>\n",
       "      <td>0.873167</td>\n",
       "      <td>0.707434</td>\n",
       "      <td>0.166921</td>\n",
       "    </tr>\n",
       "    <tr>\n",
       "      <th>103</th>\n",
       "      <td>NaN</td>\n",
       "      <td>NaN</td>\n",
       "      <td>3730.571429</td>\n",
       "      <td>Saudi Arabia</td>\n",
       "      <td>2019</td>\n",
       "      <td>6.561247</td>\n",
       "      <td>10.757097</td>\n",
       "      <td>0.911718</td>\n",
       "      <td>66.599998</td>\n",
       "      <td>0.891087</td>\n",
       "      <td>-0.146843</td>\n",
       "      <td>NaN</td>\n",
       "      <td>0.731764</td>\n",
       "      <td>0.237737</td>\n",
       "    </tr>\n",
       "    <tr>\n",
       "      <th>104</th>\n",
       "      <td>NaN</td>\n",
       "      <td>NaN</td>\n",
       "      <td>7737.428571</td>\n",
       "      <td>United Arab Emirates</td>\n",
       "      <td>2019</td>\n",
       "      <td>6.710783</td>\n",
       "      <td>11.114224</td>\n",
       "      <td>0.861533</td>\n",
       "      <td>67.300003</td>\n",
       "      <td>0.911420</td>\n",
       "      <td>0.128725</td>\n",
       "      <td>NaN</td>\n",
       "      <td>0.793177</td>\n",
       "      <td>0.283763</td>\n",
       "    </tr>\n",
       "  </tbody>\n",
       "</table>\n",
       "<p>105 rows × 14 columns</p>\n",
       "</div>"
      ],
      "text/plain": [
       "     fully_vac_per_100  vac_per_100  avg_daily_vacc_per_million  \\\n",
       "0                 1.57         9.39                 2022.000000   \n",
       "1                 6.10        15.52                 3452.571429   \n",
       "2                 3.92         6.63                 4309.142857   \n",
       "3                21.27        32.75                 7100.000000   \n",
       "4                 5.22        14.47                 3958.000000   \n",
       "..                 ...          ...                         ...   \n",
       "100                NaN          NaN                   23.000000   \n",
       "101                NaN          NaN                  192.333333   \n",
       "102                NaN          NaN                 4927.714286   \n",
       "103                NaN          NaN                 3730.571429   \n",
       "104                NaN          NaN                 7737.428571   \n",
       "\n",
       "             Country name  year  Life Ladder  Log GDP per capita  \\\n",
       "0               Argentina  2019     6.085561           10.000340   \n",
       "1                 Austria  2019     7.195361           10.939381   \n",
       "2              Azerbaijan  2019     5.173389            9.575251   \n",
       "3                 Bahrain  2019     7.098012           10.714991   \n",
       "4                 Belgium  2019     6.772138           10.853364   \n",
       "..                    ...   ...          ...                 ...   \n",
       "100                 Egypt  2019     4.327832            9.372736   \n",
       "101                Guinea  2019     4.767684            7.849340   \n",
       "102              Mongolia  2019     5.562905            9.418149   \n",
       "103          Saudi Arabia  2019     6.561247           10.757097   \n",
       "104  United Arab Emirates  2019     6.710783           11.114224   \n",
       "\n",
       "     Social support  Healthy life expectancy at birth  \\\n",
       "0          0.896371                         69.000000   \n",
       "1          0.964489                         73.300003   \n",
       "2          0.886756                         65.800003   \n",
       "3          0.877929                         69.300003   \n",
       "4          0.884230                         72.199997   \n",
       "..              ...                               ...   \n",
       "100        0.772129                         62.000000   \n",
       "101        0.655124                         55.500000   \n",
       "102        0.945758                         62.500000   \n",
       "103        0.911718                         66.599998   \n",
       "104        0.861533                         67.300003   \n",
       "\n",
       "     Freedom to make life choices  Generosity  Perceptions of corruption  \\\n",
       "0                        0.817053   -0.210719                   0.830460   \n",
       "1                        0.903428    0.059686                   0.457089   \n",
       "2                        0.854249   -0.214163                   0.457261   \n",
       "3                        0.906536    0.047863                        NaN   \n",
       "4                        0.776204   -0.171521                   0.672498   \n",
       "..                            ...         ...                        ...   \n",
       "100                      0.773951   -0.198710                        NaN   \n",
       "101                      0.691399    0.096817                   0.755585   \n",
       "102                      0.710675    0.148912                   0.873167   \n",
       "103                      0.891087   -0.146843                        NaN   \n",
       "104                      0.911420    0.128725                        NaN   \n",
       "\n",
       "     Positive affect  Negative affect  \n",
       "0           0.825965         0.319055  \n",
       "1           0.774459         0.205170  \n",
       "2           0.642547         0.163920  \n",
       "3           0.761623         0.317106  \n",
       "4           0.733456         0.243631  \n",
       "..               ...              ...  \n",
       "100         0.516831         0.312763  \n",
       "101         0.684647         0.473388  \n",
       "102         0.707434         0.166921  \n",
       "103         0.731764         0.237737  \n",
       "104         0.793177         0.283763  \n",
       "\n",
       "[105 rows x 14 columns]"
      ]
     },
     "execution_count": 8,
     "metadata": {},
     "output_type": "execute_result"
    }
   ],
   "source": [
    "hap_vac = pd.merge(vac_data, whr21_2020, left_on='country', right_on='Country name')\n",
    "hap_vac"
   ]
  },
  {
   "cell_type": "code",
   "execution_count": 9,
   "metadata": {},
   "outputs": [],
   "source": [
    "# Missing about 40 countries in WHR, will look into later"
   ]
  },
  {
   "cell_type": "markdown",
   "metadata": {},
   "source": [
    "### Vaccination Rate (average daily vaccines per million in the week of April 1-7)"
   ]
  },
  {
   "cell_type": "code",
   "execution_count": 10,
   "metadata": {},
   "outputs": [
    {
     "data": {
      "text/plain": [
       "<seaborn.axisgrid.FacetGrid at 0x7fd2e6b02850>"
      ]
     },
     "execution_count": 10,
     "metadata": {},
     "output_type": "execute_result"
    },
    {
     "data": {
      "image/png": "[encoded data removed]",
      "text/plain": [
       "<Figure size 360x360 with 1 Axes>"
      ]
     },
     "metadata": {
      "needs_background": "light"
     },
     "output_type": "display_data"
    },
    {
     "data": {
      "image/png": "[encoded data removed]",
      "text/plain": [
       "<Figure size 360x360 with 1 Axes>"
      ]
     },
     "metadata": {
      "needs_background": "light"
     },
     "output_type": "display_data"
    }
   ],
   "source": [
    "sns.relplot(data=hap_vac.dropna(subset=['avg_daily_vacc_per_million']), x='Life Ladder', y='avg_daily_vacc_per_million')\n",
    "sns.relplot(data=hap_vac.dropna(subset=['avg_daily_vacc_per_million']), x='Log GDP per capita', y='avg_daily_vacc_per_million')"
   ]
  },
  {
   "cell_type": "code",
   "execution_count": 11,
   "metadata": {},
   "outputs": [
    {
     "data": {
      "text/plain": [
       "<seaborn.axisgrid.FacetGrid at 0x7fd2e6abadc0>"
      ]
     },
     "execution_count": 11,
     "metadata": {},
     "output_type": "execute_result"
    },
    {
     "data": {
      "image/png": "[encoded data removed]",
      "text/plain": [
       "<Figure size 360x360 with 1 Axes>"
      ]
     },
     "metadata": {
      "needs_background": "light"
     },
     "output_type": "display_data"
    },
    {
     "data": {
      "image/png": "[encoded data removed]",
      "text/plain": [
       "<Figure size 360x360 with 1 Axes>"
      ]
     },
     "metadata": {
      "needs_background": "light"
     },
     "output_type": "display_data"
    }
   ],
   "source": [
    "sns.relplot(data=hap_vac.dropna(subset=['avg_daily_vacc_per_million']), x='Freedom to make life choices', y='avg_daily_vacc_per_million')\n",
    "sns.relplot(data=hap_vac.dropna(subset=['avg_daily_vacc_per_million']), x='Generosity', y='avg_daily_vacc_per_million')"
   ]
  },
  {
   "cell_type": "code",
   "execution_count": 12,
   "metadata": {},
   "outputs": [],
   "source": [
    "from sklearn.linear_model import LinearRegression\n",
    "from sklearn.metrics import mean_squared_error\n",
    "from sklearn.metrics import r2_score\n",
    "from sklearn.preprocessing import PolynomialFeatures"
   ]
  },
  {
   "cell_type": "markdown",
   "metadata": {},
   "source": [
    "Here, I create a linear model of using all the world happiness data features to try to predict the average daily vaccination rate."
   ]
  },
  {
   "cell_type": "code",
   "execution_count": 25,
   "metadata": {},
   "outputs": [
    {
     "name": "stdout",
     "output_type": "stream",
     "text": [
      "Linear model\n",
      "MSE:  4029171.6378128505\n",
      "r^2:  0.32292200829964957\n"
     ]
    }
   ],
   "source": [
    "dvdata = hap_vac.dropna(subset=['avg_daily_vacc_per_million']).iloc[:,5:14].dropna()\n",
    "dvdata_ = dvdata.values\n",
    "dvdatacols = hap_vac.columns[5:14].values.tolist()\n",
    "dvdatacols.append(hap_vac.columns[2])\n",
    "dvtarget = hap_vac.dropna(subset=dvdatacols).iloc[:,2]\n",
    "dvtarget_ = dvtarget.values\n",
    "linear_model_dv = LinearRegression()\n",
    "linear_model_dv.fit(X=dvdata_, y=dvtarget_)\n",
    "\n",
    "dvresults = pd.DataFrame()\n",
    "dvresults['country'] = hap_vac.dropna(subset=dvdatacols).iloc[:,3]\n",
    "dvresults['actual_daily_vac_pm'] = dvtarget\n",
    "dvresults['predicted_daily_vac_pm'] = linear_model_dv.predict(dvdata_)\n",
    "print('Linear model')\n",
    "print('MSE: ', mean_squared_error(dvresults['actual_daily_vac_pm'], dvresults['predicted_daily_vac_pm']))\n",
    "print('r^2: ', r2_score(dvresults['actual_daily_vac_pm'], dvresults['predicted_daily_vac_pm']))"
   ]
  },
  {
   "cell_type": "markdown",
   "metadata": {},
   "source": [
    "Now, let's make a quadratic model and see if it performs any better."
   ]
  },
  {
   "cell_type": "code",
   "execution_count": 79,
   "metadata": {},
   "outputs": [
    {
     "name": "stdout",
     "output_type": "stream",
     "text": [
      "Quadratic model\n",
      "MSE:  3532308.085192138\n",
      "r^2:  0.40641693147451574\n"
     ]
    }
   ],
   "source": [
    "#quad_dvdata = PolynomialFeatures(2, include_bias=False).fit_transform(dvdata_)\n",
    "quad_dvdata = np.hstack([dvdata_**(i+1) for i in range(2)])\n",
    "quad_model_dv = LinearRegression()\n",
    "quad_model_dv.fit(X=quad_dvdata, y=dvtarget_)\n",
    "dvresults['predicted_daily_vac_pm_quad'] = quad_model_dv.predict(quad_dvdata)\n",
    "print('Quadratic model')\n",
    "print('MSE: ', mean_squared_error(dvresults['actual_daily_vac_pm'], dvresults['predicted_daily_vac_pm_quad']))\n",
    "print('r^2: ', r2_score(dvresults['actual_daily_vac_pm'], dvresults['predicted_daily_vac_pm_quad']))"
   ]
  },
  {
   "cell_type": "code",
   "execution_count": 63,
   "metadata": {},
   "outputs": [
    {
     "data": {
      "text/html": [
       "<div>\n",
       "<style scoped>\n",
       "    .dataframe tbody tr th:only-of-type {\n",
       "        vertical-align: middle;\n",
       "    }\n",
       "\n",
       "    .dataframe tbody tr th {\n",
       "        vertical-align: top;\n",
       "    }\n",
       "\n",
       "    .dataframe thead th {\n",
       "        text-align: right;\n",
       "    }\n",
       "</style>\n",
       "<table border=\"1\" class=\"dataframe\">\n",
       "  <thead>\n",
       "    <tr style=\"text-align: right;\">\n",
       "      <th></th>\n",
       "      <th>country</th>\n",
       "      <th>actual_daily_vac_pm</th>\n",
       "      <th>predicted_daily_vac_pm</th>\n",
       "      <th>predicted_daily_vac_pm_quad</th>\n",
       "      <th>residual</th>\n",
       "      <th>quad_residual</th>\n",
       "    </tr>\n",
       "  </thead>\n",
       "  <tbody>\n",
       "    <tr>\n",
       "      <th>0</th>\n",
       "      <td>Argentina</td>\n",
       "      <td>2022.000000</td>\n",
       "      <td>2821.700687</td>\n",
       "      <td>3224.080845</td>\n",
       "      <td>799.700687</td>\n",
       "      <td>2849.147824</td>\n",
       "    </tr>\n",
       "    <tr>\n",
       "      <th>1</th>\n",
       "      <td>Austria</td>\n",
       "      <td>3452.571429</td>\n",
       "      <td>4017.890762</td>\n",
       "      <td>4888.191767</td>\n",
       "      <td>565.319334</td>\n",
       "      <td>1100.191266</td>\n",
       "    </tr>\n",
       "    <tr>\n",
       "      <th>2</th>\n",
       "      <td>Azerbaijan</td>\n",
       "      <td>4309.142857</td>\n",
       "      <td>1611.200464</td>\n",
       "      <td>1515.325917</td>\n",
       "      <td>-2697.942393</td>\n",
       "      <td>461.239472</td>\n",
       "    </tr>\n",
       "    <tr>\n",
       "      <th>4</th>\n",
       "      <td>Belgium</td>\n",
       "      <td>3958.000000</td>\n",
       "      <td>3839.546412</td>\n",
       "      <td>4046.226600</td>\n",
       "      <td>-118.453588</td>\n",
       "      <td>-1652.583357</td>\n",
       "    </tr>\n",
       "    <tr>\n",
       "      <th>5</th>\n",
       "      <td>Bolivia</td>\n",
       "      <td>813.428571</td>\n",
       "      <td>1717.699204</td>\n",
       "      <td>1316.558155</td>\n",
       "      <td>904.270633</td>\n",
       "      <td>125.872646</td>\n",
       "    </tr>\n",
       "    <tr>\n",
       "      <th>...</th>\n",
       "      <td>...</td>\n",
       "      <td>...</td>\n",
       "      <td>...</td>\n",
       "      <td>...</td>\n",
       "      <td>...</td>\n",
       "      <td>...</td>\n",
       "    </tr>\n",
       "    <tr>\n",
       "      <th>96</th>\n",
       "      <td>Vietnam</td>\n",
       "      <td>10.428571</td>\n",
       "      <td>849.548617</td>\n",
       "      <td>461.066430</td>\n",
       "      <td>839.120046</td>\n",
       "      <td>1071.675600</td>\n",
       "    </tr>\n",
       "    <tr>\n",
       "      <th>97</th>\n",
       "      <td>Albania</td>\n",
       "      <td>5293.857143</td>\n",
       "      <td>1519.359173</td>\n",
       "      <td>988.190710</td>\n",
       "      <td>-3774.497970</td>\n",
       "      <td>-2452.926905</td>\n",
       "    </tr>\n",
       "    <tr>\n",
       "      <th>98</th>\n",
       "      <td>Australia</td>\n",
       "      <td>1731.000000</td>\n",
       "      <td>3825.013805</td>\n",
       "      <td>3902.085981</td>\n",
       "      <td>2094.013805</td>\n",
       "      <td>636.077051</td>\n",
       "    </tr>\n",
       "    <tr>\n",
       "      <th>101</th>\n",
       "      <td>Guinea</td>\n",
       "      <td>192.333333</td>\n",
       "      <td>225.259060</td>\n",
       "      <td>702.693501</td>\n",
       "      <td>32.925727</td>\n",
       "      <td>-1239.761535</td>\n",
       "    </tr>\n",
       "    <tr>\n",
       "      <th>102</th>\n",
       "      <td>Mongolia</td>\n",
       "      <td>4927.714286</td>\n",
       "      <td>1957.741579</td>\n",
       "      <td>2914.586052</td>\n",
       "      <td>-2969.972707</td>\n",
       "      <td>-60.044351</td>\n",
       "    </tr>\n",
       "  </tbody>\n",
       "</table>\n",
       "<p>95 rows × 6 columns</p>\n",
       "</div>"
      ],
      "text/plain": [
       "        country  actual_daily_vac_pm  predicted_daily_vac_pm  \\\n",
       "0     Argentina          2022.000000             2821.700687   \n",
       "1       Austria          3452.571429             4017.890762   \n",
       "2    Azerbaijan          4309.142857             1611.200464   \n",
       "4       Belgium          3958.000000             3839.546412   \n",
       "5       Bolivia           813.428571             1717.699204   \n",
       "..          ...                  ...                     ...   \n",
       "96      Vietnam            10.428571              849.548617   \n",
       "97      Albania          5293.857143             1519.359173   \n",
       "98    Australia          1731.000000             3825.013805   \n",
       "101      Guinea           192.333333              225.259060   \n",
       "102    Mongolia          4927.714286             1957.741579   \n",
       "\n",
       "     predicted_daily_vac_pm_quad     residual  quad_residual  \n",
       "0                    3224.080845   799.700687    2849.147824  \n",
       "1                    4888.191767   565.319334    1100.191266  \n",
       "2                    1515.325917 -2697.942393     461.239472  \n",
       "4                    4046.226600  -118.453588   -1652.583357  \n",
       "5                    1316.558155   904.270633     125.872646  \n",
       "..                           ...          ...            ...  \n",
       "96                    461.066430   839.120046    1071.675600  \n",
       "97                    988.190710 -3774.497970   -2452.926905  \n",
       "98                   3902.085981  2094.013805     636.077051  \n",
       "101                   702.693501    32.925727   -1239.761535  \n",
       "102                  2914.586052 -2969.972707     -60.044351  \n",
       "\n",
       "[95 rows x 6 columns]"
      ]
     },
     "execution_count": 63,
     "metadata": {},
     "output_type": "execute_result"
    }
   ],
   "source": [
    "dvresults"
   ]
  },
  {
   "cell_type": "markdown",
   "metadata": {},
   "source": [
    "Creating some visualizations to see how the linear and quadratic models performed. The first plot shows the predicted vaccination rate againt the actual vaccination rate. The second plot shows the residuals."
   ]
  },
  {
   "cell_type": "code",
   "execution_count": 64,
   "metadata": {},
   "outputs": [
    {
     "data": {
      "text/plain": [
       "[<matplotlib.lines.Line2D at 0x7fd2e9329340>]"
      ]
     },
     "execution_count": 64,
     "metadata": {},
     "output_type": "execute_result"
    },
    {
     "data": {
      "image/png": "[encoded data removed]",
      "text/plain": [
       "<Figure size 432x288 with 1 Axes>"
      ]
     },
     "metadata": {
      "needs_background": "light"
     },
     "output_type": "display_data"
    }
   ],
   "source": [
    "dvresults['residual'] = dvresults['predicted_daily_vac_pm'] -  dvresults['actual_daily_vac_pm']\n",
    "dvresults['quad_residual'] = dvresults['predicted_daily_vac_pm_quad'] -  dvresults['actual_daily_vac_pm']\n",
    "sns.scatterplot(data=dvresults, x='actual_daily_vac_pm', y='predicted_daily_vac_pm')\n",
    "sns.scatterplot(data=dvresults, x='actual_daily_vac_pm', y='predicted_daily_vac_pm_quad')\n",
    "plt.plot(np.linspace(0,12000,12000),np.linspace(0,12000,12000), color='gray')"
   ]
  },
  {
   "cell_type": "code",
   "execution_count": 57,
   "metadata": {},
   "outputs": [
    {
     "data": {
      "text/plain": [
       "[<matplotlib.lines.Line2D at 0x7fd2e9052160>]"
      ]
     },
     "execution_count": 57,
     "metadata": {},
     "output_type": "execute_result"
    },
    {
     "data": {
      "image/png": "[encoded data removed]",
      "text/plain": [
       "<Figure size 432x288 with 1 Axes>"
      ]
     },
     "metadata": {
      "needs_background": "light"
     },
     "output_type": "display_data"
    }
   ],
   "source": [
    "sns.scatterplot(data=dvresults, x='actual_daily_vac_pm', y='residual')\n",
    "sns.scatterplot(data=dvresults, x='actual_daily_vac_pm', y='quad_residual')\n",
    "plt.plot(np.linspace(0,12000,12000),np.zeros(12000), color='gray')"
   ]
  },
  {
   "cell_type": "code",
   "execution_count": 58,
   "metadata": {},
   "outputs": [
    {
     "data": {
      "text/plain": [
       "array([ 2.76931041e+02,  1.17432998e+03,  2.39939696e+03, -3.05685173e+00,\n",
       "       -1.08269076e+03,  3.34116211e+02,  7.15390005e+01, -6.89641253e+02,\n",
       "        3.24739066e+03])"
      ]
     },
     "execution_count": 58,
     "metadata": {},
     "output_type": "execute_result"
    }
   ],
   "source": [
    "linear_model_dv.coef_"
   ]
  },
  {
   "cell_type": "code",
   "execution_count": 59,
   "metadata": {},
   "outputs": [
    {
     "data": {
      "text/plain": [
       "array([ 1.46824645e+04, -2.72800017e+04, -2.82181265e+05,  2.87654492e+03,\n",
       "       -2.29633221e+04,  4.67942247e+03,  1.27805103e+05,  2.45064341e+04,\n",
       "       -4.12977911e+05,  4.05587108e+02,  5.26007320e+02, -1.64641392e+04,\n",
       "        3.75552144e+01, -1.38778392e+04,  4.19199970e+03,  8.85419020e+03,\n",
       "       -3.65197526e+03, -1.98618291e+04,  9.78897883e+02,  4.53593159e+03,\n",
       "        5.78288890e+01,  1.21951071e+04,  1.32419920e+04,  7.89233226e+03,\n",
       "       -2.45771792e+04,  7.93969588e+03,  1.72191666e+05, -1.32456402e+03,\n",
       "        8.24444948e+04, -4.17513797e+04, -1.42650423e+05,  1.30834475e+05,\n",
       "        3.39638447e+05, -2.06293482e+01, -9.24878606e+02, -1.44580286e+03,\n",
       "       -7.08606825e+02,  1.56093637e+03,  1.84421120e+02,  5.87823260e+04,\n",
       "       -1.50260351e+04, -7.07140421e+04, -1.29966542e+05,  9.61490893e+04,\n",
       "        8.71190920e+03,  1.57101408e+04, -4.03692510e+04,  8.06956193e+03,\n",
       "        1.23571625e+04, -2.04413369e+04, -1.16848651e+05,  9.57959732e+04,\n",
       "        2.32508967e+04,  2.67413849e+05])"
      ]
     },
     "execution_count": 59,
     "metadata": {},
     "output_type": "execute_result"
    }
   ],
   "source": [
    "quad_model_dv.coef_"
   ]
  },
  {
   "cell_type": "markdown",
   "metadata": {},
   "source": [
    "The quadratic model fits a little bit better. Let's check the p-values for each paremeter in each model to see which coefficients are significant. This kind of analysis isn't in sklearn, so I will use the regressors package."
   ]
  },
  {
   "cell_type": "code",
   "execution_count": 83,
   "metadata": {},
   "outputs": [
    {
     "name": "stdout",
     "output_type": "stream",
     "text": [
      "coef_pval:\n",
      " [0.00730374 0.37118262 0.00684201 0.49784056 0.83001668 0.71115559\n",
      " 0.82008541 0.95439796 0.78957635 0.347984  ]\n",
      "Residuals:\n",
      "       Min        1Q   Median        3Q       Max\n",
      "-7894.2514 -324.4162 417.6394 1266.7996 2795.0964\n",
      "\n",
      "\n",
      "Coefficients:\n",
      "                        Estimate   Std. Error  t value   p value\n",
      "_intercept         -12117.971360  4418.809644  -2.7424  0.007304\n",
      "Ladder                276.931041   308.194024   0.8986  0.371183\n",
      "Log GDP per cap      1174.329983   424.636832   2.7655  0.006842\n",
      "Social support       2399.396960  3525.767070   0.6805  0.497841\n",
      "Life expectancy        -3.056852    14.199529  -0.2153  0.830017\n",
      "Freedom             -1082.690757  2914.951085  -0.3714  0.711156\n",
      "Generosity            334.116211  1464.957365   0.2281  0.820085\n",
      "Percep. corruption     71.539001  1247.679902   0.0573  0.954398\n",
      "+ affect             -689.641253  2576.919412  -0.2676  0.789576\n",
      "- affect             3247.390662  3442.860350   0.9432  0.347984\n",
      "---\n",
      "R-squared:  0.32292,    Adjusted R-squared:  0.25123\n",
      "F-statistic: 4.50 on 9 features\n"
     ]
    }
   ],
   "source": [
    "from regressors import stats\n",
    "print(\"coef_pval:\\n\", stats.coef_pval(linear_model_dv, dvdata_, dvtarget_))\n",
    "xlabels = ['Ladder','Log GDP per cap', 'Social support', 'Life expectancy', 'Freedom', 'Generosity', 'Percep. corruption', '+ affect', '- affect']\n",
    "stats.summary(linear_model_dv, dvdata_, dvtarget_, xlabels)"
   ]
  },
  {
   "cell_type": "code",
   "execution_count": 92,
   "metadata": {},
   "outputs": [
    {
     "name": "stdout",
     "output_type": "stream",
     "text": [
      "coef_pval:\n",
      " [9.95218312e-01 1.20980440e-01 2.37305530e-01 3.61669244e-03\n",
      " 4.56319584e-08 8.70062886e-01 7.06640817e-01 2.09920445e-01\n",
      " 3.23276907e-01 3.62556934e-01 1.54442521e-08 0.00000000e+00\n",
      " 2.77368102e-05 0.00000000e+00 9.10703849e-01 4.59801016e-01\n",
      " 1.44700904e-01 2.68874543e-01 6.91227622e-01]\n",
      "Residuals:\n",
      "       Min        1Q   Median        3Q       Max\n",
      "-7303.5646 -573.6884 360.8333 1243.0773 2584.5288\n",
      "\n",
      "\n",
      "Coefficients:\n",
      "                          Estimate    Std. Error   t value   p value\n",
      "_intercept             -164.122407  27312.978030   -0.0060  0.995218\n",
      "Ladder                 2401.171752   1534.450056    1.5648  0.120980\n",
      "Log GDP per cap       -5146.119251   4326.907189   -1.1893  0.237306\n",
      "Social support       -65272.366217  21868.329788   -2.9848  0.003617\n",
      "Life expectancy         882.973482    148.388304    5.9504  0.000000\n",
      "Freedom               -4431.104291  27014.653516   -0.1640  0.870063\n",
      "Generosity              552.252635   1462.856818    0.3775  0.706641\n",
      "Percep. corruption     6179.921659   4895.294908    1.2624  0.209920\n",
      "+ affect              17592.512645  17717.178188    0.9930  0.323277\n",
      "- affect              12670.381710  13848.108777    0.9150  0.362557\n",
      "Ladder^2               -232.148928     37.487448   -6.1927  0.000000\n",
      "Log GDP per cap^2       345.774303     33.003540   10.4769  0.000000\n",
      "Social support^2      45383.205522  10296.603185    4.4076  0.000028\n",
      "Life expectancy^2        -6.926334      0.067757 -102.2229  0.000000\n",
      "Freedom^2              1327.895657  11808.426047    0.1125  0.910704\n",
      "Generosity^2          -4130.381474   5564.856232   -0.7422  0.459801\n",
      "Percep. corruption^2  -5104.086611   3470.419343   -1.4707  0.144701\n",
      "+ affect^2           -11023.590608   9911.226523   -1.1122  0.268875\n",
      "- affect^2           -12574.676842  31561.733793   -0.3984  0.691228\n",
      "---\n",
      "R-squared:  0.40642,    Adjusted R-squared:  0.26583\n",
      "F-statistic: 2.89 on 18 features\n"
     ]
    }
   ],
   "source": [
    "print(\"coef_pval:\\n\", stats.coef_pval(quad_model_dv, quad_dvdata, dvtarget_))\n",
    "xlabelsq = xlabels + [s + '^2' for s in xlabels]\n",
    "stats.summary(quad_model_dv, quad_dvdata, dvtarget_, xlabelsq)"
   ]
  },
  {
   "cell_type": "markdown",
   "metadata": {},
   "source": [
    "Limit to a few more likely significant features:\n",
    "1. Log GDP per cap\n",
    "2. Social support\n",
    "3. Perceptions of corruption\n",
    "4. Life ladder"
   ]
  },
  {
   "cell_type": "code",
   "execution_count": 94,
   "metadata": {},
   "outputs": [
    {
     "name": "stdout",
     "output_type": "stream",
     "text": [
      "Linear model\n",
      "MSE:  4098709.569513234\n",
      "r^2:  0.31123657829690854\n"
     ]
    }
   ],
   "source": [
    "small_model = dvdata_[:,[0,1,2,6]]\n",
    "small_linear_model_dv = LinearRegression()\n",
    "small_linear_model_dv.fit(X=small_model, y=dvtarget_)\n",
    "\n",
    "dvresults['predicted_daily_vac_pm_small'] = small_linear_model_dv.predict(small_model)\n",
    "print('Small linear model')\n",
    "print('MSE: ', mean_squared_error(dvresults['actual_daily_vac_pm'], dvresults['predicted_daily_vac_pm_small']))\n",
    "print('r^2: ', r2_score(dvresults['actual_daily_vac_pm'], dvresults['predicted_daily_vac_pm_small']))"
   ]
  },
  {
   "cell_type": "markdown",
   "metadata": {},
   "source": [
    "The small model did just as well as the linear model with more terms. Now I will make a larger quadratic model with these terms."
   ]
  },
  {
   "cell_type": "code",
   "execution_count": 144,
   "metadata": {},
   "outputs": [
    {
     "name": "stdout",
     "output_type": "stream",
     "text": [
      "Small Quadratic model\n",
      "MSE:  3674106.793278056\n",
      "r^2:  0.3825885138425892\n"
     ]
    }
   ],
   "source": [
    "#small_quad_dvdata = PolynomialFeatures(2, include_bias=False).fit_transform(small_model)\n",
    "small_quad_dvdata = np.hstack([small_model**(i+1) for i in range(2)])\n",
    "small_quad_model_dv = LinearRegression()\n",
    "small_quad_model_dv.fit(X=small_quad_dvdata, y=dvtarget_)\n",
    "dvresults['predicted_daily_vac_pm_quad_s'] = small_quad_model_dv.predict(small_quad_dvdata)\n",
    "print('Small Quadratic model')\n",
    "print('MSE: ', mean_squared_error(dvresults['actual_daily_vac_pm'], dvresults['predicted_daily_vac_pm_quad_s']))\n",
    "print('r^2: ', r2_score(dvresults['actual_daily_vac_pm'], dvresults['predicted_daily_vac_pm_quad_s']))"
   ]
  },
  {
   "cell_type": "code",
   "execution_count": 145,
   "metadata": {},
   "outputs": [
    {
     "data": {
      "text/plain": [
       "[<matplotlib.lines.Line2D at 0x7fd2eb5cb0a0>]"
      ]
     },
     "execution_count": 145,
     "metadata": {},
     "output_type": "execute_result"
    },
    {
     "data": {
      "image/png": "[encoded data removed]",
      "text/plain": [
       "<Figure size 432x288 with 1 Axes>"
      ]
     },
     "metadata": {
      "needs_background": "light"
     },
     "output_type": "display_data"
    }
   ],
   "source": [
    "dvresults['small_residual'] = dvresults['predicted_daily_vac_pm_small'] -  dvresults['actual_daily_vac_pm']\n",
    "dvresults['quad_residual_s'] = dvresults['predicted_daily_vac_pm_quad_s'] -  dvresults['actual_daily_vac_pm']\n",
    "sns.scatterplot(data=dvresults, x='actual_daily_vac_pm', y='predicted_daily_vac_pm_small', alpha=0.5)\n",
    "sns.scatterplot(data=dvresults, x='actual_daily_vac_pm', y='predicted_daily_vac_pm_quad_s', alpha=0.5)\n",
    "#sns.scatterplot(data=dvresults, x='actual_daily_vac_pm', y='predicted_daily_vac_pm_quad', alpha=0.5)\n",
    "plt.plot(np.linspace(0,12000,12000),np.linspace(0,12000,12000), color='gray')"
   ]
  },
  {
   "cell_type": "code",
   "execution_count": 146,
   "metadata": {},
   "outputs": [
    {
     "data": {
      "text/plain": [
       "[<matplotlib.lines.Line2D at 0x7fd2e89f2b50>]"
      ]
     },
     "execution_count": 146,
     "metadata": {},
     "output_type": "execute_result"
    },
    {
     "data": {
      "image/png": "[encoded data removed]",
      "text/plain": [
       "<Figure size 432x288 with 1 Axes>"
      ]
     },
     "metadata": {
      "needs_background": "light"
     },
     "output_type": "display_data"
    }
   ],
   "source": [
    "sns.scatterplot(data=dvresults, x='actual_daily_vac_pm', y='small_residual')\n",
    "sns.scatterplot(data=dvresults, x='actual_daily_vac_pm', y='quad_residual_s')\n",
    "plt.plot(np.linspace(0,12000,12000),np.zeros(12000), color='gray')"
   ]
  },
  {
   "cell_type": "code",
   "execution_count": 147,
   "metadata": {},
   "outputs": [
    {
     "name": "stdout",
     "output_type": "stream",
     "text": [
      "coef_pval:\n",
      " [1.12485567e-01 1.23558818e-01 1.40955552e-03 8.13391002e-03\n",
      " 5.57809783e-02 2.59527092e-07 0.00000000e+00 1.76125516e-04\n",
      " 5.89572151e-02]\n",
      "Residuals:\n",
      "       Min        1Q   Median       3Q       Max\n",
      "-7260.1768 -354.8138 324.1727 1127.321 3476.0356\n",
      "\n",
      "\n",
      "Coefficients:\n",
      "                Estimate    Std. Error  t value   p value\n",
      "_intercept  27677.823022  17275.806905   1.6021  0.112486\n",
      "x1           2116.528419   1362.038344   1.5539  0.123559\n",
      "x2          -4715.418072   1433.098493  -3.2904  0.001410\n",
      "x3         -51943.128063  19210.193751  -2.7039  0.008134\n",
      "x4           9153.099054   4726.048977   1.9367  0.055781\n",
      "x5           -187.980565     33.852424  -5.5529  0.000000\n",
      "x6            312.019473     10.749881  29.0254  0.000000\n",
      "x7          35703.895949   9138.720182   3.9069  0.000176\n",
      "x8          -6547.813579   3425.079775  -1.9117  0.058957\n",
      "---\n",
      "R-squared:  0.38259,    Adjusted R-squared:  0.32515\n",
      "F-statistic: 6.66 on 8 features\n"
     ]
    }
   ],
   "source": [
    "print(\"coef_pval:\\n\", stats.coef_pval(small_quad_model_dv, small_quad_dvdata, dvtarget_))\n",
    "xlabels_sq = xlabels_s + [s + '^2' for s in xlabels_s]\n",
    "stats.summary(small_quad_model_dv, small_quad_dvdata, dvtarget_)"
   ]
  },
  {
   "cell_type": "markdown",
   "metadata": {},
   "source": [
    "### Total vaccinations per hundred"
   ]
  },
  {
   "cell_type": "code",
   "execution_count": 148,
   "metadata": {},
   "outputs": [
    {
     "data": {
      "text/plain": [
       "<seaborn.axisgrid.FacetGrid at 0x7fd2ebbc5c40>"
      ]
     },
     "execution_count": 148,
     "metadata": {},
     "output_type": "execute_result"
    },
    {
     "data": {
      "image/png": "[encoded data removed]",
      "text/plain": [
       "<Figure size 360x360 with 1 Axes>"
      ]
     },
     "metadata": {
      "needs_background": "light"
     },
     "output_type": "display_data"
    },
    {
     "data": {
      "image/png": "[encoded data removed]",
      "text/plain": [
       "<Figure size 360x360 with 1 Axes>"
      ]
     },
     "metadata": {
      "needs_background": "light"
     },
     "output_type": "display_data"
    },
    {
     "data": {
      "image/png": "[encoded data removed]",
      "text/plain": [
       "<Figure size 360x360 with 1 Axes>"
      ]
     },
     "metadata": {
      "needs_background": "light"
     },
     "output_type": "display_data"
    },
    {
     "data": {
      "image/png": "[encoded data removed]",
      "text/plain": [
       "<Figure size 360x360 with 1 Axes>"
      ]
     },
     "metadata": {
      "needs_background": "light"
     },
     "output_type": "display_data"
    },
    {
     "data": {
      "image/png": "[encoded data removed]",
      "text/plain": [
       "<Figure size 360x360 with 1 Axes>"
      ]
     },
     "metadata": {
      "needs_background": "light"
     },
     "output_type": "display_data"
    },
    {
     "data": {
      "image/png": "[encoded data removed]",
      "text/plain": [
       "<Figure size 360x360 with 1 Axes>"
      ]
     },
     "metadata": {
      "needs_background": "light"
     },
     "output_type": "display_data"
    },
    {
     "data": {
      "image/png": "[encoded data removed]",
      "text/plain": [
       "<Figure size 360x360 with 1 Axes>"
      ]
     },
     "metadata": {
      "needs_background": "light"
     },
     "output_type": "display_data"
    }
   ],
   "source": [
    "sns.relplot(data=hap_vac.dropna(subset=['vac_per_100']), x='Life Ladder', y='vac_per_100')\n",
    "sns.relplot(data=hap_vac.dropna(subset=['vac_per_100']), x='Log GDP per capita', y='vac_per_100')\n",
    "sns.relplot(data=hap_vac.dropna(subset=['vac_per_100']), x='Freedom to make life choices', y='vac_per_100')\n",
    "sns.relplot(data=hap_vac.dropna(subset=['vac_per_100']), x='Generosity', y='vac_per_100')\n",
    "sns.relplot(data=hap_vac.dropna(subset=['vac_per_100']), x='Perceptions of corruption', y='vac_per_100')\n",
    "sns.relplot(data=hap_vac.dropna(subset=['vac_per_100']), x='Positive affect', y='vac_per_100')\n",
    "sns.relplot(data=hap_vac.dropna(subset=['vac_per_100']), x='Negative affect', y='vac_per_100')"
   ]
  },
  {
   "cell_type": "code",
   "execution_count": 19,
   "metadata": {},
   "outputs": [],
   "source": [
    "from sklearn.linear_model import LinearRegression\n",
    "from sklearn.metrics import mean_squared_error\n",
    "from sklearn.metrics import r2_score"
   ]
  },
  {
   "cell_type": "code",
   "execution_count": 149,
   "metadata": {},
   "outputs": [
    {
     "name": "stdout",
     "output_type": "stream",
     "text": [
      "MSE:  69.13981340599253\n",
      "r^2:  0.42557300473089\n"
     ]
    }
   ],
   "source": [
    "vdata = hap_vac.dropna(subset=['vac_per_100']).iloc[:,5:].dropna()\n",
    "vdata_ = vdata.values\n",
    "vdatacols = hap_vac.columns[5:].values.tolist()\n",
    "vdatacols.append(hap_vac.columns[1])\n",
    "vtarget = hap_vac.dropna(subset=vdatacols).iloc[:,1]\n",
    "vtarget_ = vtarget.values\n",
    "linear_model_v = LinearRegression()\n",
    "linear_model_v.fit(X=vdata_, y=vtarget_)\n",
    "\n",
    "vresults = pd.DataFrame()\n",
    "vresults['country'] = hap_vac.dropna(subset=vdatacols).iloc[:,3]\n",
    "vresults['actual_v_per100'] = vtarget\n",
    "vresults['predicted_v_per100'] = linear_model_v.predict(vdata_)\n",
    "print('MSE: ', mean_squared_error(vresults['actual_v_per100'], vresults['predicted_v_per100']))\n",
    "print('r^2: ', r2_score(vresults['actual_v_per100'], vresults['predicted_v_per100']))"
   ]
  },
  {
   "cell_type": "code",
   "execution_count": 150,
   "metadata": {},
   "outputs": [
    {
     "data": {
      "text/html": [
       "<div>\n",
       "<style scoped>\n",
       "    .dataframe tbody tr th:only-of-type {\n",
       "        vertical-align: middle;\n",
       "    }\n",
       "\n",
       "    .dataframe tbody tr th {\n",
       "        vertical-align: top;\n",
       "    }\n",
       "\n",
       "    .dataframe thead th {\n",
       "        text-align: right;\n",
       "    }\n",
       "</style>\n",
       "<table border=\"1\" class=\"dataframe\">\n",
       "  <thead>\n",
       "    <tr style=\"text-align: right;\">\n",
       "      <th></th>\n",
       "      <th>country</th>\n",
       "      <th>actual_v_per100</th>\n",
       "      <th>predicted_v_per100</th>\n",
       "    </tr>\n",
       "  </thead>\n",
       "  <tbody>\n",
       "    <tr>\n",
       "      <th>0</th>\n",
       "      <td>Argentina</td>\n",
       "      <td>9.39</td>\n",
       "      <td>8.640626</td>\n",
       "    </tr>\n",
       "    <tr>\n",
       "      <th>1</th>\n",
       "      <td>Austria</td>\n",
       "      <td>15.52</td>\n",
       "      <td>18.282349</td>\n",
       "    </tr>\n",
       "    <tr>\n",
       "      <th>2</th>\n",
       "      <td>Azerbaijan</td>\n",
       "      <td>6.63</td>\n",
       "      <td>2.736170</td>\n",
       "    </tr>\n",
       "    <tr>\n",
       "      <th>4</th>\n",
       "      <td>Belgium</td>\n",
       "      <td>14.47</td>\n",
       "      <td>16.008791</td>\n",
       "    </tr>\n",
       "    <tr>\n",
       "      <th>5</th>\n",
       "      <td>Bolivia</td>\n",
       "      <td>2.42</td>\n",
       "      <td>6.555769</td>\n",
       "    </tr>\n",
       "    <tr>\n",
       "      <th>...</th>\n",
       "      <td>...</td>\n",
       "      <td>...</td>\n",
       "      <td>...</td>\n",
       "    </tr>\n",
       "    <tr>\n",
       "      <th>91</th>\n",
       "      <td>Senegal</td>\n",
       "      <td>1.95</td>\n",
       "      <td>-0.188196</td>\n",
       "    </tr>\n",
       "    <tr>\n",
       "      <th>92</th>\n",
       "      <td>Sri Lanka</td>\n",
       "      <td>4.32</td>\n",
       "      <td>1.124421</td>\n",
       "    </tr>\n",
       "    <tr>\n",
       "      <th>93</th>\n",
       "      <td>Uganda</td>\n",
       "      <td>0.31</td>\n",
       "      <td>1.659425</td>\n",
       "    </tr>\n",
       "    <tr>\n",
       "      <th>94</th>\n",
       "      <td>Uzbekistan</td>\n",
       "      <td>0.10</td>\n",
       "      <td>5.777686</td>\n",
       "    </tr>\n",
       "    <tr>\n",
       "      <th>96</th>\n",
       "      <td>Vietnam</td>\n",
       "      <td>0.06</td>\n",
       "      <td>0.930068</td>\n",
       "    </tr>\n",
       "  </tbody>\n",
       "</table>\n",
       "<p>92 rows × 3 columns</p>\n",
       "</div>"
      ],
      "text/plain": [
       "       country  actual_v_per100  predicted_v_per100\n",
       "0    Argentina             9.39            8.640626\n",
       "1      Austria            15.52           18.282349\n",
       "2   Azerbaijan             6.63            2.736170\n",
       "4      Belgium            14.47           16.008791\n",
       "5      Bolivia             2.42            6.555769\n",
       "..         ...              ...                 ...\n",
       "91     Senegal             1.95           -0.188196\n",
       "92   Sri Lanka             4.32            1.124421\n",
       "93      Uganda             0.31            1.659425\n",
       "94  Uzbekistan             0.10            5.777686\n",
       "96     Vietnam             0.06            0.930068\n",
       "\n",
       "[92 rows x 3 columns]"
      ]
     },
     "execution_count": 150,
     "metadata": {},
     "output_type": "execute_result"
    }
   ],
   "source": [
    "vresults"
   ]
  },
  {
   "cell_type": "code",
   "execution_count": 151,
   "metadata": {},
   "outputs": [
    {
     "data": {
      "text/plain": [
       "<seaborn.axisgrid.FacetGrid at 0x7fd2eca93e50>"
      ]
     },
     "execution_count": 151,
     "metadata": {},
     "output_type": "execute_result"
    },
    {
     "data": {
      "image/png": "[encoded data removed]",
      "text/plain": [
       "<Figure size 360x360 with 1 Axes>"
      ]
     },
     "metadata": {
      "needs_background": "light"
     },
     "output_type": "display_data"
    },
    {
     "data": {
      "image/png": "[encoded data removed]",
      "text/plain": [
       "<Figure size 360x360 with 1 Axes>"
      ]
     },
     "metadata": {
      "needs_background": "light"
     },
     "output_type": "display_data"
    }
   ],
   "source": [
    "vresults['residual'] = vresults['predicted_v_per100'] -  vresults['actual_v_per100']\n",
    "sns.relplot(data=vresults, x='actual_v_per100', y='predicted_v_per100')\n",
    "plt.plot(np.linspace(0,40,5000),np.linspace(0,40,5000), color='gray')\n",
    "\n",
    "sns.relplot(data=vresults, x='actual_v_per100', y='residual')"
   ]
  },
  {
   "cell_type": "code",
   "execution_count": 23,
   "metadata": {},
   "outputs": [
    {
     "data": {
      "text/plain": [
       "array([  4.20987899,   4.62809273,   7.10323979,  -0.0584833 ,\n",
       "        -4.33681356,  11.43743181,   4.73334542, -22.19423554,\n",
       "        14.95128661])"
      ]
     },
     "execution_count": 23,
     "metadata": {},
     "output_type": "execute_result"
    }
   ],
   "source": [
    "linear_model_v.coef_"
   ]
  },
  {
   "cell_type": "code",
   "execution_count": null,
   "metadata": {},
   "outputs": [],
   "source": []
  }
 ],
 "metadata": {
  "kernelspec": {
   "display_name": "Python 3",
   "language": "python",
   "name": "python3"
  },
  "language_info": {
   "codemirror_mode": {
    "name": "ipython",
    "version": 3
   },
   "file_extension": ".py",
   "mimetype": "text/x-python",
   "name": "python",
   "nbconvert_exporter": "python",
   "pygments_lexer": "ipython3",
   "version": "3.8.1"
  }
 },
 "nbformat": 4,
 "nbformat_minor": 4
}
