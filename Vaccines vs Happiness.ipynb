{
 "cells": [
  {
   "cell_type": "code",
   "execution_count": 208,
   "metadata": {},
   "outputs": [],
   "source": [
    "import numpy as np\n",
    "import seaborn as sns\n",
    "import pandas as pd\n",
    "import matplotlib.pyplot as plt"
   ]
  },
  {
   "cell_type": "code",
   "execution_count": 75,
   "metadata": {},
   "outputs": [],
   "source": [
    "df = pd.read_csv('country_vaccinations.csv')\n",
    "whr21 = pd.read_excel('DataPanelWHR2021C2.xls')\n",
    "whr21_2020 = whr21[whr21['year']==2019]"
   ]
  },
  {
   "cell_type": "code",
   "execution_count": 54,
   "metadata": {},
   "outputs": [
    {
     "data": {
      "text/html": [
       "<div>\n",
       "<style scoped>\n",
       "    .dataframe tbody tr th:only-of-type {\n",
       "        vertical-align: middle;\n",
       "    }\n",
       "\n",
       "    .dataframe tbody tr th {\n",
       "        vertical-align: top;\n",
       "    }\n",
       "\n",
       "    .dataframe thead th {\n",
       "        text-align: right;\n",
       "    }\n",
       "</style>\n",
       "<table border=\"1\" class=\"dataframe\">\n",
       "  <thead>\n",
       "    <tr style=\"text-align: right;\">\n",
       "      <th></th>\n",
       "      <th>people_fully_vaccinated_per_hundred</th>\n",
       "    </tr>\n",
       "    <tr>\n",
       "      <th>country</th>\n",
       "      <th></th>\n",
       "    </tr>\n",
       "  </thead>\n",
       "  <tbody>\n",
       "    <tr>\n",
       "      <th>Argentina</th>\n",
       "      <td>1.57</td>\n",
       "    </tr>\n",
       "    <tr>\n",
       "      <th>Austria</th>\n",
       "      <td>6.10</td>\n",
       "    </tr>\n",
       "    <tr>\n",
       "      <th>Azerbaijan</th>\n",
       "      <td>3.92</td>\n",
       "    </tr>\n",
       "    <tr>\n",
       "      <th>Bahrain</th>\n",
       "      <td>21.27</td>\n",
       "    </tr>\n",
       "    <tr>\n",
       "      <th>Belgium</th>\n",
       "      <td>5.22</td>\n",
       "    </tr>\n",
       "    <tr>\n",
       "      <th>...</th>\n",
       "      <td>...</td>\n",
       "    </tr>\n",
       "    <tr>\n",
       "      <th>United Kingdom</th>\n",
       "      <td>9.64</td>\n",
       "    </tr>\n",
       "    <tr>\n",
       "      <th>United States</th>\n",
       "      <td>20.39</td>\n",
       "    </tr>\n",
       "    <tr>\n",
       "      <th>Uruguay</th>\n",
       "      <td>5.46</td>\n",
       "    </tr>\n",
       "    <tr>\n",
       "      <th>Wales</th>\n",
       "      <td>15.81</td>\n",
       "    </tr>\n",
       "    <tr>\n",
       "      <th>Zimbabwe</th>\n",
       "      <td>0.18</td>\n",
       "    </tr>\n",
       "  </tbody>\n",
       "</table>\n",
       "<p>93 rows × 1 columns</p>\n",
       "</div>"
      ],
      "text/plain": [
       "                people_fully_vaccinated_per_hundred\n",
       "country                                            \n",
       "Argentina                                      1.57\n",
       "Austria                                        6.10\n",
       "Azerbaijan                                     3.92\n",
       "Bahrain                                       21.27\n",
       "Belgium                                        5.22\n",
       "...                                             ...\n",
       "United Kingdom                                 9.64\n",
       "United States                                 20.39\n",
       "Uruguay                                        5.46\n",
       "Wales                                         15.81\n",
       "Zimbabwe                                       0.18\n",
       "\n",
       "[93 rows x 1 columns]"
      ]
     },
     "execution_count": 54,
     "metadata": {},
     "output_type": "execute_result"
    }
   ],
   "source": [
    "# Extract fully vaccinated per hundred as of April 1-11, whatever is the highest.\n",
    "fv = df[(df['date']>='2021-04-01') & (df['date']<='2021-04-11')]\n",
    "fv = fv[['country','people_fully_vaccinated_per_hundred']]\n",
    "fv = fv.groupby('country').max().dropna()\n",
    "fv"
   ]
  },
  {
   "cell_type": "code",
   "execution_count": 53,
   "metadata": {},
   "outputs": [
    {
     "data": {
      "text/html": [
       "<div>\n",
       "<style scoped>\n",
       "    .dataframe tbody tr th:only-of-type {\n",
       "        vertical-align: middle;\n",
       "    }\n",
       "\n",
       "    .dataframe tbody tr th {\n",
       "        vertical-align: top;\n",
       "    }\n",
       "\n",
       "    .dataframe thead th {\n",
       "        text-align: right;\n",
       "    }\n",
       "</style>\n",
       "<table border=\"1\" class=\"dataframe\">\n",
       "  <thead>\n",
       "    <tr style=\"text-align: right;\">\n",
       "      <th></th>\n",
       "      <th>people_vaccinated_per_hundred</th>\n",
       "    </tr>\n",
       "    <tr>\n",
       "      <th>country</th>\n",
       "      <th></th>\n",
       "    </tr>\n",
       "  </thead>\n",
       "  <tbody>\n",
       "    <tr>\n",
       "      <th>Afghanistan</th>\n",
       "      <td>0.31</td>\n",
       "    </tr>\n",
       "    <tr>\n",
       "      <th>Angola</th>\n",
       "      <td>0.55</td>\n",
       "    </tr>\n",
       "    <tr>\n",
       "      <th>Argentina</th>\n",
       "      <td>9.39</td>\n",
       "    </tr>\n",
       "    <tr>\n",
       "      <th>Austria</th>\n",
       "      <td>15.52</td>\n",
       "    </tr>\n",
       "    <tr>\n",
       "      <th>Azerbaijan</th>\n",
       "      <td>6.63</td>\n",
       "    </tr>\n",
       "    <tr>\n",
       "      <th>...</th>\n",
       "      <td>...</td>\n",
       "    </tr>\n",
       "    <tr>\n",
       "      <th>Uzbekistan</th>\n",
       "      <td>0.10</td>\n",
       "    </tr>\n",
       "    <tr>\n",
       "      <th>Venezuela</th>\n",
       "      <td>0.34</td>\n",
       "    </tr>\n",
       "    <tr>\n",
       "      <th>Vietnam</th>\n",
       "      <td>0.06</td>\n",
       "    </tr>\n",
       "    <tr>\n",
       "      <th>Wales</th>\n",
       "      <td>48.75</td>\n",
       "    </tr>\n",
       "    <tr>\n",
       "      <th>Zimbabwe</th>\n",
       "      <td>1.03</td>\n",
       "    </tr>\n",
       "  </tbody>\n",
       "</table>\n",
       "<p>134 rows × 1 columns</p>\n",
       "</div>"
      ],
      "text/plain": [
       "             people_vaccinated_per_hundred\n",
       "country                                   \n",
       "Afghanistan                           0.31\n",
       "Angola                                0.55\n",
       "Argentina                             9.39\n",
       "Austria                              15.52\n",
       "Azerbaijan                            6.63\n",
       "...                                    ...\n",
       "Uzbekistan                            0.10\n",
       "Venezuela                             0.34\n",
       "Vietnam                               0.06\n",
       "Wales                                48.75\n",
       "Zimbabwe                              1.03\n",
       "\n",
       "[134 rows x 1 columns]"
      ]
     },
     "execution_count": 53,
     "metadata": {},
     "output_type": "execute_result"
    }
   ],
   "source": [
    "# Extract vaccinated per hundred as of April 1-11, whatever is the highest.\n",
    "v = df[(df['date']>='2021-04-01') & (df['date']<='2021-04-11')]\n",
    "v = v[['country','people_vaccinated_per_hundred']]\n",
    "v = v.groupby('country').max().dropna()\n",
    "v"
   ]
  },
  {
   "cell_type": "code",
   "execution_count": 55,
   "metadata": {},
   "outputs": [
    {
     "data": {
      "text/html": [
       "<div>\n",
       "<style scoped>\n",
       "    .dataframe tbody tr th:only-of-type {\n",
       "        vertical-align: middle;\n",
       "    }\n",
       "\n",
       "    .dataframe tbody tr th {\n",
       "        vertical-align: top;\n",
       "    }\n",
       "\n",
       "    .dataframe thead th {\n",
       "        text-align: right;\n",
       "    }\n",
       "</style>\n",
       "<table border=\"1\" class=\"dataframe\">\n",
       "  <thead>\n",
       "    <tr style=\"text-align: right;\">\n",
       "      <th></th>\n",
       "      <th>daily_vaccinations_per_million</th>\n",
       "    </tr>\n",
       "    <tr>\n",
       "      <th>country</th>\n",
       "      <th></th>\n",
       "    </tr>\n",
       "  </thead>\n",
       "  <tbody>\n",
       "    <tr>\n",
       "      <th>Afghanistan</th>\n",
       "      <td>77.000000</td>\n",
       "    </tr>\n",
       "    <tr>\n",
       "      <th>Albania</th>\n",
       "      <td>5293.857143</td>\n",
       "    </tr>\n",
       "    <tr>\n",
       "      <th>Andorra</th>\n",
       "      <td>2550.000000</td>\n",
       "    </tr>\n",
       "    <tr>\n",
       "      <th>Angola</th>\n",
       "      <td>210.666667</td>\n",
       "    </tr>\n",
       "    <tr>\n",
       "      <th>Argentina</th>\n",
       "      <td>2022.000000</td>\n",
       "    </tr>\n",
       "    <tr>\n",
       "      <th>...</th>\n",
       "      <td>...</td>\n",
       "    </tr>\n",
       "    <tr>\n",
       "      <th>Uzbekistan</th>\n",
       "      <td>174.000000</td>\n",
       "    </tr>\n",
       "    <tr>\n",
       "      <th>Venezuela</th>\n",
       "      <td>391.000000</td>\n",
       "    </tr>\n",
       "    <tr>\n",
       "      <th>Vietnam</th>\n",
       "      <td>10.428571</td>\n",
       "    </tr>\n",
       "    <tr>\n",
       "      <th>Wales</th>\n",
       "      <td>6458.142857</td>\n",
       "    </tr>\n",
       "    <tr>\n",
       "      <th>Zimbabwe</th>\n",
       "      <td>619.000000</td>\n",
       "    </tr>\n",
       "  </tbody>\n",
       "</table>\n",
       "<p>145 rows × 1 columns</p>\n",
       "</div>"
      ],
      "text/plain": [
       "             daily_vaccinations_per_million\n",
       "country                                    \n",
       "Afghanistan                       77.000000\n",
       "Albania                         5293.857143\n",
       "Andorra                         2550.000000\n",
       "Angola                           210.666667\n",
       "Argentina                       2022.000000\n",
       "...                                     ...\n",
       "Uzbekistan                       174.000000\n",
       "Venezuela                        391.000000\n",
       "Vietnam                           10.428571\n",
       "Wales                           6458.142857\n",
       "Zimbabwe                         619.000000\n",
       "\n",
       "[145 rows x 1 columns]"
      ]
     },
     "execution_count": 55,
     "metadata": {},
     "output_type": "execute_result"
    }
   ],
   "source": [
    "# Extract average daily vaccinations per million between April 1 and 7\n",
    "dv = df[(df['date']>='2021-04-01') & (df['date']<='2021-04-07')]\n",
    "dv = dv[['date','country','daily_vaccinations_per_million']].dropna()\n",
    "dv = dv.groupby('country').mean()\n",
    "dv"
   ]
  },
  {
   "cell_type": "markdown",
   "metadata": {},
   "source": [
    "Now, combine these three tables into one table, then combine with WHR data"
   ]
  },
  {
   "cell_type": "code",
   "execution_count": 65,
   "metadata": {},
   "outputs": [],
   "source": [
    "vac_data = pd.merge(fv, v, on='country', how='outer')\n",
    "vac_data = pd.merge(vac_data, dv, on='country', how='outer')\n",
    "vac_data.columns = ['fully_vac_per_100', 'vac_per_100', 'avg_daily_vacc_per_million']"
   ]
  },
  {
   "cell_type": "code",
   "execution_count": 66,
   "metadata": {},
   "outputs": [
    {
     "data": {
      "text/html": [
       "<div>\n",
       "<style scoped>\n",
       "    .dataframe tbody tr th:only-of-type {\n",
       "        vertical-align: middle;\n",
       "    }\n",
       "\n",
       "    .dataframe tbody tr th {\n",
       "        vertical-align: top;\n",
       "    }\n",
       "\n",
       "    .dataframe thead th {\n",
       "        text-align: right;\n",
       "    }\n",
       "</style>\n",
       "<table border=\"1\" class=\"dataframe\">\n",
       "  <thead>\n",
       "    <tr style=\"text-align: right;\">\n",
       "      <th></th>\n",
       "      <th>fully_vac_per_100</th>\n",
       "      <th>vac_per_100</th>\n",
       "      <th>avg_daily_vacc_per_million</th>\n",
       "    </tr>\n",
       "    <tr>\n",
       "      <th>country</th>\n",
       "      <th></th>\n",
       "      <th></th>\n",
       "      <th></th>\n",
       "    </tr>\n",
       "  </thead>\n",
       "  <tbody>\n",
       "    <tr>\n",
       "      <th>Argentina</th>\n",
       "      <td>1.57</td>\n",
       "      <td>9.39</td>\n",
       "      <td>2022.000000</td>\n",
       "    </tr>\n",
       "    <tr>\n",
       "      <th>Austria</th>\n",
       "      <td>6.10</td>\n",
       "      <td>15.52</td>\n",
       "      <td>3452.571429</td>\n",
       "    </tr>\n",
       "    <tr>\n",
       "      <th>Azerbaijan</th>\n",
       "      <td>3.92</td>\n",
       "      <td>6.63</td>\n",
       "      <td>4309.142857</td>\n",
       "    </tr>\n",
       "    <tr>\n",
       "      <th>Bahrain</th>\n",
       "      <td>21.27</td>\n",
       "      <td>32.75</td>\n",
       "      <td>7100.000000</td>\n",
       "    </tr>\n",
       "    <tr>\n",
       "      <th>Belgium</th>\n",
       "      <td>5.22</td>\n",
       "      <td>14.47</td>\n",
       "      <td>3958.000000</td>\n",
       "    </tr>\n",
       "    <tr>\n",
       "      <th>...</th>\n",
       "      <td>...</td>\n",
       "      <td>...</td>\n",
       "      <td>...</td>\n",
       "    </tr>\n",
       "    <tr>\n",
       "      <th>Mongolia</th>\n",
       "      <td>NaN</td>\n",
       "      <td>NaN</td>\n",
       "      <td>4927.714286</td>\n",
       "    </tr>\n",
       "    <tr>\n",
       "      <th>Qatar</th>\n",
       "      <td>NaN</td>\n",
       "      <td>NaN</td>\n",
       "      <td>8346.714286</td>\n",
       "    </tr>\n",
       "    <tr>\n",
       "      <th>Saint Lucia</th>\n",
       "      <td>NaN</td>\n",
       "      <td>NaN</td>\n",
       "      <td>847.142857</td>\n",
       "    </tr>\n",
       "    <tr>\n",
       "      <th>Saudi Arabia</th>\n",
       "      <td>NaN</td>\n",
       "      <td>NaN</td>\n",
       "      <td>3730.571429</td>\n",
       "    </tr>\n",
       "    <tr>\n",
       "      <th>United Arab Emirates</th>\n",
       "      <td>NaN</td>\n",
       "      <td>NaN</td>\n",
       "      <td>7737.428571</td>\n",
       "    </tr>\n",
       "  </tbody>\n",
       "</table>\n",
       "<p>146 rows × 3 columns</p>\n",
       "</div>"
      ],
      "text/plain": [
       "                      fully_vac_per_100  vac_per_100  \\\n",
       "country                                                \n",
       "Argentina                          1.57         9.39   \n",
       "Austria                            6.10        15.52   \n",
       "Azerbaijan                         3.92         6.63   \n",
       "Bahrain                           21.27        32.75   \n",
       "Belgium                            5.22        14.47   \n",
       "...                                 ...          ...   \n",
       "Mongolia                            NaN          NaN   \n",
       "Qatar                               NaN          NaN   \n",
       "Saint Lucia                         NaN          NaN   \n",
       "Saudi Arabia                        NaN          NaN   \n",
       "United Arab Emirates                NaN          NaN   \n",
       "\n",
       "                      avg_daily_vacc_per_million  \n",
       "country                                           \n",
       "Argentina                            2022.000000  \n",
       "Austria                              3452.571429  \n",
       "Azerbaijan                           4309.142857  \n",
       "Bahrain                              7100.000000  \n",
       "Belgium                              3958.000000  \n",
       "...                                          ...  \n",
       "Mongolia                             4927.714286  \n",
       "Qatar                                8346.714286  \n",
       "Saint Lucia                           847.142857  \n",
       "Saudi Arabia                         3730.571429  \n",
       "United Arab Emirates                 7737.428571  \n",
       "\n",
       "[146 rows x 3 columns]"
      ]
     },
     "execution_count": 66,
     "metadata": {},
     "output_type": "execute_result"
    }
   ],
   "source": [
    "vac_data"
   ]
  },
  {
   "cell_type": "code",
   "execution_count": 77,
   "metadata": {},
   "outputs": [
    {
     "data": {
      "text/html": [
       "<div>\n",
       "<style scoped>\n",
       "    .dataframe tbody tr th:only-of-type {\n",
       "        vertical-align: middle;\n",
       "    }\n",
       "\n",
       "    .dataframe tbody tr th {\n",
       "        vertical-align: top;\n",
       "    }\n",
       "\n",
       "    .dataframe thead th {\n",
       "        text-align: right;\n",
       "    }\n",
       "</style>\n",
       "<table border=\"1\" class=\"dataframe\">\n",
       "  <thead>\n",
       "    <tr style=\"text-align: right;\">\n",
       "      <th></th>\n",
       "      <th>fully_vac_per_100</th>\n",
       "      <th>vac_per_100</th>\n",
       "      <th>avg_daily_vacc_per_million</th>\n",
       "      <th>Country name</th>\n",
       "      <th>year</th>\n",
       "      <th>Life Ladder</th>\n",
       "      <th>Log GDP per capita</th>\n",
       "      <th>Social support</th>\n",
       "      <th>Healthy life expectancy at birth</th>\n",
       "      <th>Freedom to make life choices</th>\n",
       "      <th>Generosity</th>\n",
       "      <th>Perceptions of corruption</th>\n",
       "      <th>Positive affect</th>\n",
       "      <th>Negative affect</th>\n",
       "    </tr>\n",
       "  </thead>\n",
       "  <tbody>\n",
       "    <tr>\n",
       "      <th>0</th>\n",
       "      <td>1.57</td>\n",
       "      <td>9.39</td>\n",
       "      <td>2022.000000</td>\n",
       "      <td>Argentina</td>\n",
       "      <td>2019</td>\n",
       "      <td>6.085561</td>\n",
       "      <td>10.000340</td>\n",
       "      <td>0.896371</td>\n",
       "      <td>69.000000</td>\n",
       "      <td>0.817053</td>\n",
       "      <td>-0.210719</td>\n",
       "      <td>0.830460</td>\n",
       "      <td>0.825965</td>\n",
       "      <td>0.319055</td>\n",
       "    </tr>\n",
       "    <tr>\n",
       "      <th>1</th>\n",
       "      <td>6.10</td>\n",
       "      <td>15.52</td>\n",
       "      <td>3452.571429</td>\n",
       "      <td>Austria</td>\n",
       "      <td>2019</td>\n",
       "      <td>7.195361</td>\n",
       "      <td>10.939381</td>\n",
       "      <td>0.964489</td>\n",
       "      <td>73.300003</td>\n",
       "      <td>0.903428</td>\n",
       "      <td>0.059686</td>\n",
       "      <td>0.457089</td>\n",
       "      <td>0.774459</td>\n",
       "      <td>0.205170</td>\n",
       "    </tr>\n",
       "    <tr>\n",
       "      <th>2</th>\n",
       "      <td>3.92</td>\n",
       "      <td>6.63</td>\n",
       "      <td>4309.142857</td>\n",
       "      <td>Azerbaijan</td>\n",
       "      <td>2019</td>\n",
       "      <td>5.173389</td>\n",
       "      <td>9.575251</td>\n",
       "      <td>0.886756</td>\n",
       "      <td>65.800003</td>\n",
       "      <td>0.854249</td>\n",
       "      <td>-0.214163</td>\n",
       "      <td>0.457261</td>\n",
       "      <td>0.642547</td>\n",
       "      <td>0.163920</td>\n",
       "    </tr>\n",
       "    <tr>\n",
       "      <th>3</th>\n",
       "      <td>21.27</td>\n",
       "      <td>32.75</td>\n",
       "      <td>7100.000000</td>\n",
       "      <td>Bahrain</td>\n",
       "      <td>2019</td>\n",
       "      <td>7.098012</td>\n",
       "      <td>10.714991</td>\n",
       "      <td>0.877929</td>\n",
       "      <td>69.300003</td>\n",
       "      <td>0.906536</td>\n",
       "      <td>0.047863</td>\n",
       "      <td>NaN</td>\n",
       "      <td>0.761623</td>\n",
       "      <td>0.317106</td>\n",
       "    </tr>\n",
       "    <tr>\n",
       "      <th>4</th>\n",
       "      <td>5.22</td>\n",
       "      <td>14.47</td>\n",
       "      <td>3958.000000</td>\n",
       "      <td>Belgium</td>\n",
       "      <td>2019</td>\n",
       "      <td>6.772138</td>\n",
       "      <td>10.853364</td>\n",
       "      <td>0.884230</td>\n",
       "      <td>72.199997</td>\n",
       "      <td>0.776204</td>\n",
       "      <td>-0.171521</td>\n",
       "      <td>0.672498</td>\n",
       "      <td>0.733456</td>\n",
       "      <td>0.243631</td>\n",
       "    </tr>\n",
       "    <tr>\n",
       "      <th>...</th>\n",
       "      <td>...</td>\n",
       "      <td>...</td>\n",
       "      <td>...</td>\n",
       "      <td>...</td>\n",
       "      <td>...</td>\n",
       "      <td>...</td>\n",
       "      <td>...</td>\n",
       "      <td>...</td>\n",
       "      <td>...</td>\n",
       "      <td>...</td>\n",
       "      <td>...</td>\n",
       "      <td>...</td>\n",
       "      <td>...</td>\n",
       "      <td>...</td>\n",
       "    </tr>\n",
       "    <tr>\n",
       "      <th>100</th>\n",
       "      <td>NaN</td>\n",
       "      <td>NaN</td>\n",
       "      <td>23.000000</td>\n",
       "      <td>Egypt</td>\n",
       "      <td>2019</td>\n",
       "      <td>4.327832</td>\n",
       "      <td>9.372736</td>\n",
       "      <td>0.772129</td>\n",
       "      <td>62.000000</td>\n",
       "      <td>0.773951</td>\n",
       "      <td>-0.198710</td>\n",
       "      <td>NaN</td>\n",
       "      <td>0.516831</td>\n",
       "      <td>0.312763</td>\n",
       "    </tr>\n",
       "    <tr>\n",
       "      <th>101</th>\n",
       "      <td>NaN</td>\n",
       "      <td>NaN</td>\n",
       "      <td>192.333333</td>\n",
       "      <td>Guinea</td>\n",
       "      <td>2019</td>\n",
       "      <td>4.767684</td>\n",
       "      <td>7.849340</td>\n",
       "      <td>0.655124</td>\n",
       "      <td>55.500000</td>\n",
       "      <td>0.691399</td>\n",
       "      <td>0.096817</td>\n",
       "      <td>0.755585</td>\n",
       "      <td>0.684647</td>\n",
       "      <td>0.473388</td>\n",
       "    </tr>\n",
       "    <tr>\n",
       "      <th>102</th>\n",
       "      <td>NaN</td>\n",
       "      <td>NaN</td>\n",
       "      <td>4927.714286</td>\n",
       "      <td>Mongolia</td>\n",
       "      <td>2019</td>\n",
       "      <td>5.562905</td>\n",
       "      <td>9.418149</td>\n",
       "      <td>0.945758</td>\n",
       "      <td>62.500000</td>\n",
       "      <td>0.710675</td>\n",
       "      <td>0.148912</td>\n",
       "      <td>0.873167</td>\n",
       "      <td>0.707434</td>\n",
       "      <td>0.166921</td>\n",
       "    </tr>\n",
       "    <tr>\n",
       "      <th>103</th>\n",
       "      <td>NaN</td>\n",
       "      <td>NaN</td>\n",
       "      <td>3730.571429</td>\n",
       "      <td>Saudi Arabia</td>\n",
       "      <td>2019</td>\n",
       "      <td>6.561247</td>\n",
       "      <td>10.757097</td>\n",
       "      <td>0.911718</td>\n",
       "      <td>66.599998</td>\n",
       "      <td>0.891087</td>\n",
       "      <td>-0.146843</td>\n",
       "      <td>NaN</td>\n",
       "      <td>0.731764</td>\n",
       "      <td>0.237737</td>\n",
       "    </tr>\n",
       "    <tr>\n",
       "      <th>104</th>\n",
       "      <td>NaN</td>\n",
       "      <td>NaN</td>\n",
       "      <td>7737.428571</td>\n",
       "      <td>United Arab Emirates</td>\n",
       "      <td>2019</td>\n",
       "      <td>6.710783</td>\n",
       "      <td>11.114224</td>\n",
       "      <td>0.861533</td>\n",
       "      <td>67.300003</td>\n",
       "      <td>0.911420</td>\n",
       "      <td>0.128725</td>\n",
       "      <td>NaN</td>\n",
       "      <td>0.793177</td>\n",
       "      <td>0.283763</td>\n",
       "    </tr>\n",
       "  </tbody>\n",
       "</table>\n",
       "<p>105 rows × 14 columns</p>\n",
       "</div>"
      ],
      "text/plain": [
       "     fully_vac_per_100  vac_per_100  avg_daily_vacc_per_million  \\\n",
       "0                 1.57         9.39                 2022.000000   \n",
       "1                 6.10        15.52                 3452.571429   \n",
       "2                 3.92         6.63                 4309.142857   \n",
       "3                21.27        32.75                 7100.000000   \n",
       "4                 5.22        14.47                 3958.000000   \n",
       "..                 ...          ...                         ...   \n",
       "100                NaN          NaN                   23.000000   \n",
       "101                NaN          NaN                  192.333333   \n",
       "102                NaN          NaN                 4927.714286   \n",
       "103                NaN          NaN                 3730.571429   \n",
       "104                NaN          NaN                 7737.428571   \n",
       "\n",
       "             Country name  year  Life Ladder  Log GDP per capita  \\\n",
       "0               Argentina  2019     6.085561           10.000340   \n",
       "1                 Austria  2019     7.195361           10.939381   \n",
       "2              Azerbaijan  2019     5.173389            9.575251   \n",
       "3                 Bahrain  2019     7.098012           10.714991   \n",
       "4                 Belgium  2019     6.772138           10.853364   \n",
       "..                    ...   ...          ...                 ...   \n",
       "100                 Egypt  2019     4.327832            9.372736   \n",
       "101                Guinea  2019     4.767684            7.849340   \n",
       "102              Mongolia  2019     5.562905            9.418149   \n",
       "103          Saudi Arabia  2019     6.561247           10.757097   \n",
       "104  United Arab Emirates  2019     6.710783           11.114224   \n",
       "\n",
       "     Social support  Healthy life expectancy at birth  \\\n",
       "0          0.896371                         69.000000   \n",
       "1          0.964489                         73.300003   \n",
       "2          0.886756                         65.800003   \n",
       "3          0.877929                         69.300003   \n",
       "4          0.884230                         72.199997   \n",
       "..              ...                               ...   \n",
       "100        0.772129                         62.000000   \n",
       "101        0.655124                         55.500000   \n",
       "102        0.945758                         62.500000   \n",
       "103        0.911718                         66.599998   \n",
       "104        0.861533                         67.300003   \n",
       "\n",
       "     Freedom to make life choices  Generosity  Perceptions of corruption  \\\n",
       "0                        0.817053   -0.210719                   0.830460   \n",
       "1                        0.903428    0.059686                   0.457089   \n",
       "2                        0.854249   -0.214163                   0.457261   \n",
       "3                        0.906536    0.047863                        NaN   \n",
       "4                        0.776204   -0.171521                   0.672498   \n",
       "..                            ...         ...                        ...   \n",
       "100                      0.773951   -0.198710                        NaN   \n",
       "101                      0.691399    0.096817                   0.755585   \n",
       "102                      0.710675    0.148912                   0.873167   \n",
       "103                      0.891087   -0.146843                        NaN   \n",
       "104                      0.911420    0.128725                        NaN   \n",
       "\n",
       "     Positive affect  Negative affect  \n",
       "0           0.825965         0.319055  \n",
       "1           0.774459         0.205170  \n",
       "2           0.642547         0.163920  \n",
       "3           0.761623         0.317106  \n",
       "4           0.733456         0.243631  \n",
       "..               ...              ...  \n",
       "100         0.516831         0.312763  \n",
       "101         0.684647         0.473388  \n",
       "102         0.707434         0.166921  \n",
       "103         0.731764         0.237737  \n",
       "104         0.793177         0.283763  \n",
       "\n",
       "[105 rows x 14 columns]"
      ]
     },
     "execution_count": 77,
     "metadata": {},
     "output_type": "execute_result"
    }
   ],
   "source": [
    "hap_vac = pd.merge(vac_data, whr21_2020, left_on='country', right_on='Country name')\n",
    "hap_vac"
   ]
  },
  {
   "cell_type": "code",
   "execution_count": 85,
   "metadata": {},
   "outputs": [],
   "source": [
    "# Missing about 40 countries in WHR, will look into later"
   ]
  },
  {
   "cell_type": "markdown",
   "metadata": {},
   "source": [
    "### Vaccination Rate (average daily vaccines per million in the week of April 1-7)"
   ]
  },
  {
   "cell_type": "code",
   "execution_count": 92,
   "metadata": {},
   "outputs": [
    {
     "data": {
      "text/plain": [
       "<seaborn.axisgrid.FacetGrid at 0x7f8e3ec62fd0>"
      ]
     },
     "execution_count": 92,
     "metadata": {},
     "output_type": "execute_result"
    },
    {
     "data": {
      "image/png": "[encoded data removed]",
      "text/plain": [
       "<Figure size 360x360 with 1 Axes>"
      ]
     },
     "metadata": {
      "needs_background": "light"
     },
     "output_type": "display_data"
    },
    {
     "data": {
      "image/png": "[encoded data removed]",
      "text/plain": [
       "<Figure size 360x360 with 1 Axes>"
      ]
     },
     "metadata": {
      "needs_background": "light"
     },
     "output_type": "display_data"
    }
   ],
   "source": [
    "sns.relplot(data=hap_vac.dropna(subset=['avg_daily_vacc_per_million']), x='Life Ladder', y='avg_daily_vacc_per_million')\n",
    "sns.relplot(data=hap_vac.dropna(subset=['avg_daily_vacc_per_million']), x='Log GDP per capita', y='avg_daily_vacc_per_million')"
   ]
  },
  {
   "cell_type": "code",
   "execution_count": 93,
   "metadata": {},
   "outputs": [
    {
     "data": {
      "text/plain": [
       "<seaborn.axisgrid.FacetGrid at 0x7f8e3ed078e0>"
      ]
     },
     "execution_count": 93,
     "metadata": {},
     "output_type": "execute_result"
    },
    {
     "data": {
      "image/png": "[encoded data removed]",
      "text/plain": [
       "<Figure size 360x360 with 1 Axes>"
      ]
     },
     "metadata": {
      "needs_background": "light"
     },
     "output_type": "display_data"
    },
    {
     "data": {
      "image/png": "[encoded data removed]",
      "text/plain": [
       "<Figure size 360x360 with 1 Axes>"
      ]
     },
     "metadata": {
      "needs_background": "light"
     },
     "output_type": "display_data"
    }
   ],
   "source": [
    "sns.relplot(data=hap_vac.dropna(subset=['avg_daily_vacc_per_million']), x='Freedom to make life choices', y='avg_daily_vacc_per_million')\n",
    "sns.relplot(data=hap_vac.dropna(subset=['avg_daily_vacc_per_million']), x='Generosity', y='avg_daily_vacc_per_million')"
   ]
  },
  {
   "cell_type": "code",
   "execution_count": 177,
   "metadata": {},
   "outputs": [],
   "source": [
    "from sklearn.linear_model import LinearRegression\n",
    "from sklearn.metrics import mean_squared_error\n",
    "from sklearn.metrics import r2_score"
   ]
  },
  {
   "cell_type": "code",
   "execution_count": 199,
   "metadata": {},
   "outputs": [
    {
     "name": "stdout",
     "output_type": "stream",
     "text": [
      "MSE:  4029171.6378128505\n",
      "r^2:  0.32292200829964957\n"
     ]
    }
   ],
   "source": [
    "dvdata = hap_vac.dropna(subset=['avg_daily_vacc_per_million']).iloc[:,5:14].dropna()\n",
    "dvdata_ = dvdata.values\n",
    "dvdatacols = hap_vac.columns[5:14].values.tolist()\n",
    "dvdatacols.append(hap_vac.columns[2])\n",
    "dvtarget = hap_vac.dropna(subset=dvdatacols).iloc[:,2]\n",
    "dvtarget_ = dvtarget.values\n",
    "linear_model_dv = LinearRegression()\n",
    "linear_model_dv.fit(X=dvdata_, y=dvtarget_)\n",
    "\n",
    "dvresults = pd.DataFrame()\n",
    "dvresults['country'] = hap_vac.dropna(subset=dvdatacols).iloc[:,3]\n",
    "dvresults['actual_daily_vac_pm'] = dvtarget\n",
    "dvresults['predicted_daily_vac_pm'] = linear_model_dv.predict(dvdata_)\n",
    "print('MSE: ', mean_squared_error(dvresults['actual_daily_vac_pm'], dvresults['predicted_daily_vac_pm']))\n",
    "print('r^2: ', r2_score(dvresults['actual_daily_vac_pm'], dvresults['predicted_daily_vac_pm']))"
   ]
  },
  {
   "cell_type": "code",
   "execution_count": 200,
   "metadata": {},
   "outputs": [
    {
     "data": {
      "text/html": [
       "<div>\n",
       "<style scoped>\n",
       "    .dataframe tbody tr th:only-of-type {\n",
       "        vertical-align: middle;\n",
       "    }\n",
       "\n",
       "    .dataframe tbody tr th {\n",
       "        vertical-align: top;\n",
       "    }\n",
       "\n",
       "    .dataframe thead th {\n",
       "        text-align: right;\n",
       "    }\n",
       "</style>\n",
       "<table border=\"1\" class=\"dataframe\">\n",
       "  <thead>\n",
       "    <tr style=\"text-align: right;\">\n",
       "      <th></th>\n",
       "      <th>country</th>\n",
       "      <th>actual_daily_vac_pm</th>\n",
       "      <th>predicted_daily_vac_pm</th>\n",
       "    </tr>\n",
       "  </thead>\n",
       "  <tbody>\n",
       "    <tr>\n",
       "      <th>0</th>\n",
       "      <td>Argentina</td>\n",
       "      <td>2022.000000</td>\n",
       "      <td>2821.700687</td>\n",
       "    </tr>\n",
       "    <tr>\n",
       "      <th>1</th>\n",
       "      <td>Austria</td>\n",
       "      <td>3452.571429</td>\n",
       "      <td>4017.890762</td>\n",
       "    </tr>\n",
       "    <tr>\n",
       "      <th>2</th>\n",
       "      <td>Azerbaijan</td>\n",
       "      <td>4309.142857</td>\n",
       "      <td>1611.200464</td>\n",
       "    </tr>\n",
       "    <tr>\n",
       "      <th>4</th>\n",
       "      <td>Belgium</td>\n",
       "      <td>3958.000000</td>\n",
       "      <td>3839.546412</td>\n",
       "    </tr>\n",
       "    <tr>\n",
       "      <th>5</th>\n",
       "      <td>Bolivia</td>\n",
       "      <td>813.428571</td>\n",
       "      <td>1717.699204</td>\n",
       "    </tr>\n",
       "    <tr>\n",
       "      <th>...</th>\n",
       "      <td>...</td>\n",
       "      <td>...</td>\n",
       "      <td>...</td>\n",
       "    </tr>\n",
       "    <tr>\n",
       "      <th>96</th>\n",
       "      <td>Vietnam</td>\n",
       "      <td>10.428571</td>\n",
       "      <td>849.548617</td>\n",
       "    </tr>\n",
       "    <tr>\n",
       "      <th>97</th>\n",
       "      <td>Albania</td>\n",
       "      <td>5293.857143</td>\n",
       "      <td>1519.359173</td>\n",
       "    </tr>\n",
       "    <tr>\n",
       "      <th>98</th>\n",
       "      <td>Australia</td>\n",
       "      <td>1731.000000</td>\n",
       "      <td>3825.013805</td>\n",
       "    </tr>\n",
       "    <tr>\n",
       "      <th>101</th>\n",
       "      <td>Guinea</td>\n",
       "      <td>192.333333</td>\n",
       "      <td>225.259060</td>\n",
       "    </tr>\n",
       "    <tr>\n",
       "      <th>102</th>\n",
       "      <td>Mongolia</td>\n",
       "      <td>4927.714286</td>\n",
       "      <td>1957.741579</td>\n",
       "    </tr>\n",
       "  </tbody>\n",
       "</table>\n",
       "<p>95 rows × 3 columns</p>\n",
       "</div>"
      ],
      "text/plain": [
       "        country  actual_daily_vac_pm  predicted_daily_vac_pm\n",
       "0     Argentina          2022.000000             2821.700687\n",
       "1       Austria          3452.571429             4017.890762\n",
       "2    Azerbaijan          4309.142857             1611.200464\n",
       "4       Belgium          3958.000000             3839.546412\n",
       "5       Bolivia           813.428571             1717.699204\n",
       "..          ...                  ...                     ...\n",
       "96      Vietnam            10.428571              849.548617\n",
       "97      Albania          5293.857143             1519.359173\n",
       "98    Australia          1731.000000             3825.013805\n",
       "101      Guinea           192.333333              225.259060\n",
       "102    Mongolia          4927.714286             1957.741579\n",
       "\n",
       "[95 rows x 3 columns]"
      ]
     },
     "execution_count": 200,
     "metadata": {},
     "output_type": "execute_result"
    }
   ],
   "source": [
    "dvresults"
   ]
  },
  {
   "cell_type": "code",
   "execution_count": 213,
   "metadata": {},
   "outputs": [
    {
     "data": {
      "text/plain": [
       "<seaborn.axisgrid.FacetGrid at 0x7f8e4086a700>"
      ]
     },
     "execution_count": 213,
     "metadata": {},
     "output_type": "execute_result"
    },
    {
     "data": {
      "image/png": "[encoded data removed]",
      "text/plain": [
       "<Figure size 360x360 with 1 Axes>"
      ]
     },
     "metadata": {
      "needs_background": "light"
     },
     "output_type": "display_data"
    },
    {
     "data": {
      "image/png": "[encoded data removed]",
      "text/plain": [
       "<Figure size 360x360 with 1 Axes>"
      ]
     },
     "metadata": {
      "needs_background": "light"
     },
     "output_type": "display_data"
    }
   ],
   "source": [
    "dvresults['residual'] = dvresults['predicted_daily_vac_pm'] -  dvresults['actual_daily_vac_pm']\n",
    "sns.relplot(data=dvresults, x='actual_daily_vac_pm', y='predicted_daily_vac_pm')\n",
    "plt.plot(np.linspace(0,5000,5000),np.linspace(0,5000,5000), color='gray')\n",
    "sns.relplot(data=dvresults, x='actual_daily_vac_pm', y='residual')"
   ]
  },
  {
   "cell_type": "code",
   "execution_count": 202,
   "metadata": {},
   "outputs": [
    {
     "data": {
      "text/plain": [
       "array([ 2.76931041e+02,  1.17432998e+03,  2.39939696e+03, -3.05685173e+00,\n",
       "       -1.08269076e+03,  3.34116211e+02,  7.15390005e+01, -6.89641253e+02,\n",
       "        3.24739066e+03])"
      ]
     },
     "execution_count": 202,
     "metadata": {},
     "output_type": "execute_result"
    }
   ],
   "source": [
    "linear_model_dv.coef_"
   ]
  },
  {
   "cell_type": "markdown",
   "metadata": {},
   "source": [
    "### Total vaccinations per hundred"
   ]
  },
  {
   "cell_type": "code",
   "execution_count": 94,
   "metadata": {},
   "outputs": [
    {
     "data": {
      "text/plain": [
       "<seaborn.axisgrid.FacetGrid at 0x7f8e3ef22c70>"
      ]
     },
     "execution_count": 94,
     "metadata": {},
     "output_type": "execute_result"
    },
    {
     "data": {
      "image/png": "[encoded data removed]",
      "text/plain": [
       "<Figure size 360x360 with 1 Axes>"
      ]
     },
     "metadata": {
      "needs_background": "light"
     },
     "output_type": "display_data"
    },
    {
     "data": {
      "image/png": "[encoded data removed]",
      "text/plain": [
       "<Figure size 360x360 with 1 Axes>"
      ]
     },
     "metadata": {
      "needs_background": "light"
     },
     "output_type": "display_data"
    }
   ],
   "source": [
    "sns.relplot(data=hap_vac.dropna(subset=['vac_per_100']), x='Life Ladder', y='vac_per_100')\n",
    "sns.relplot(data=hap_vac.dropna(subset=['vac_per_100']), x='Log GDP per capita', y='vac_per_100')"
   ]
  },
  {
   "cell_type": "code",
   "execution_count": 99,
   "metadata": {},
   "outputs": [
    {
     "data": {
      "text/plain": [
       "<seaborn.axisgrid.FacetGrid at 0x7f8e4088dd00>"
      ]
     },
     "execution_count": 99,
     "metadata": {},
     "output_type": "execute_result"
    },
    {
     "data": {
      "image/png": "[encoded data removed]",
      "text/plain": [
       "<Figure size 360x360 with 1 Axes>"
      ]
     },
     "metadata": {
      "needs_background": "light"
     },
     "output_type": "display_data"
    },
    {
     "data": {
      "image/png": "[encoded data removed]",
      "text/plain": [
       "<Figure size 360x360 with 1 Axes>"
      ]
     },
     "metadata": {
      "needs_background": "light"
     },
     "output_type": "display_data"
    },
    {
     "data": {
      "image/png": "[encoded data removed]",
      "text/plain": [
       "<Figure size 360x360 with 1 Axes>"
      ]
     },
     "metadata": {
      "needs_background": "light"
     },
     "output_type": "display_data"
    },
    {
     "data": {
      "image/png": "[encoded data removed]",
      "text/plain": [
       "<Figure size 360x360 with 1 Axes>"
      ]
     },
     "metadata": {
      "needs_background": "light"
     },
     "output_type": "display_data"
    }
   ],
   "source": [
    "sns.relplot(data=hap_vac.dropna(subset=['vac_per_100']), x='Freedom to make life choices', y='vac_per_100')\n",
    "sns.relplot(data=hap_vac.dropna(subset=['vac_per_100']), x='Generosity', y='vac_per_100')\n",
    "sns.relplot(data=hap_vac.dropna(subset=['vac_per_100']), x='Perceptions of corruption', y='vac_per_100')\n",
    "#sns.relplot(data=hap_vac.dropna(subset=['vac_per_100']), x='Positive affect', y='vac_per_100')\n",
    "sns.relplot(data=hap_vac.dropna(subset=['vac_per_100']), x='Negative affect', y='vac_per_100')"
   ]
  },
  {
   "cell_type": "code",
   "execution_count": 100,
   "metadata": {},
   "outputs": [],
   "source": [
    "from sklearn.linear_model import LinearRegression\n",
    "from sklearn.metrics import mean_squared_error\n",
    "from sklearn.metrics import r2_score"
   ]
  },
  {
   "cell_type": "code",
   "execution_count": 203,
   "metadata": {},
   "outputs": [
    {
     "name": "stdout",
     "output_type": "stream",
     "text": [
      "MSE:  69.13981340599253\n",
      "r^2:  0.42557300473089\n"
     ]
    }
   ],
   "source": [
    "vdata = hap_vac.dropna(subset=['vac_per_100']).iloc[:,5:].dropna()\n",
    "vdata_ = vdata.values\n",
    "vdatacols = hap_vac.columns[5:].values.tolist()\n",
    "vdatacols.append(hap_vac.columns[1])\n",
    "vtarget = hap_vac.dropna(subset=vdatacols).iloc[:,1]\n",
    "vtarget_ = vtarget.values\n",
    "linear_model_v = LinearRegression()\n",
    "linear_model_v.fit(X=vdata_, y=vtarget_)\n",
    "\n",
    "vresults = pd.DataFrame()\n",
    "vresults['country'] = hap_vac.dropna(subset=vdatacols).iloc[:,3]\n",
    "vresults['actual_v_per100'] = vtarget\n",
    "vresults['predicted_v_per100'] = linear_model_v.predict(vdata_)\n",
    "print('MSE: ', mean_squared_error(vresults['actual_v_per100'], vresults['predicted_v_per100']))\n",
    "print('r^2: ', r2_score(vresults['actual_v_per100'], vresults['predicted_v_per100']))"
   ]
  },
  {
   "cell_type": "code",
   "execution_count": 204,
   "metadata": {},
   "outputs": [
    {
     "data": {
      "text/html": [
       "<div>\n",
       "<style scoped>\n",
       "    .dataframe tbody tr th:only-of-type {\n",
       "        vertical-align: middle;\n",
       "    }\n",
       "\n",
       "    .dataframe tbody tr th {\n",
       "        vertical-align: top;\n",
       "    }\n",
       "\n",
       "    .dataframe thead th {\n",
       "        text-align: right;\n",
       "    }\n",
       "</style>\n",
       "<table border=\"1\" class=\"dataframe\">\n",
       "  <thead>\n",
       "    <tr style=\"text-align: right;\">\n",
       "      <th></th>\n",
       "      <th>country</th>\n",
       "      <th>actual_v_per100</th>\n",
       "      <th>predicted_v_per100</th>\n",
       "    </tr>\n",
       "  </thead>\n",
       "  <tbody>\n",
       "    <tr>\n",
       "      <th>0</th>\n",
       "      <td>Argentina</td>\n",
       "      <td>9.39</td>\n",
       "      <td>8.640626</td>\n",
       "    </tr>\n",
       "    <tr>\n",
       "      <th>1</th>\n",
       "      <td>Austria</td>\n",
       "      <td>15.52</td>\n",
       "      <td>18.282349</td>\n",
       "    </tr>\n",
       "    <tr>\n",
       "      <th>2</th>\n",
       "      <td>Azerbaijan</td>\n",
       "      <td>6.63</td>\n",
       "      <td>2.736170</td>\n",
       "    </tr>\n",
       "    <tr>\n",
       "      <th>4</th>\n",
       "      <td>Belgium</td>\n",
       "      <td>14.47</td>\n",
       "      <td>16.008791</td>\n",
       "    </tr>\n",
       "    <tr>\n",
       "      <th>5</th>\n",
       "      <td>Bolivia</td>\n",
       "      <td>2.42</td>\n",
       "      <td>6.555769</td>\n",
       "    </tr>\n",
       "    <tr>\n",
       "      <th>...</th>\n",
       "      <td>...</td>\n",
       "      <td>...</td>\n",
       "      <td>...</td>\n",
       "    </tr>\n",
       "    <tr>\n",
       "      <th>91</th>\n",
       "      <td>Senegal</td>\n",
       "      <td>1.95</td>\n",
       "      <td>-0.188196</td>\n",
       "    </tr>\n",
       "    <tr>\n",
       "      <th>92</th>\n",
       "      <td>Sri Lanka</td>\n",
       "      <td>4.32</td>\n",
       "      <td>1.124421</td>\n",
       "    </tr>\n",
       "    <tr>\n",
       "      <th>93</th>\n",
       "      <td>Uganda</td>\n",
       "      <td>0.31</td>\n",
       "      <td>1.659425</td>\n",
       "    </tr>\n",
       "    <tr>\n",
       "      <th>94</th>\n",
       "      <td>Uzbekistan</td>\n",
       "      <td>0.10</td>\n",
       "      <td>5.777686</td>\n",
       "    </tr>\n",
       "    <tr>\n",
       "      <th>96</th>\n",
       "      <td>Vietnam</td>\n",
       "      <td>0.06</td>\n",
       "      <td>0.930068</td>\n",
       "    </tr>\n",
       "  </tbody>\n",
       "</table>\n",
       "<p>92 rows × 3 columns</p>\n",
       "</div>"
      ],
      "text/plain": [
       "       country  actual_v_per100  predicted_v_per100\n",
       "0    Argentina             9.39            8.640626\n",
       "1      Austria            15.52           18.282349\n",
       "2   Azerbaijan             6.63            2.736170\n",
       "4      Belgium            14.47           16.008791\n",
       "5      Bolivia             2.42            6.555769\n",
       "..         ...              ...                 ...\n",
       "91     Senegal             1.95           -0.188196\n",
       "92   Sri Lanka             4.32            1.124421\n",
       "93      Uganda             0.31            1.659425\n",
       "94  Uzbekistan             0.10            5.777686\n",
       "96     Vietnam             0.06            0.930068\n",
       "\n",
       "[92 rows x 3 columns]"
      ]
     },
     "execution_count": 204,
     "metadata": {},
     "output_type": "execute_result"
    }
   ],
   "source": [
    "vresults"
   ]
  },
  {
   "cell_type": "code",
   "execution_count": 217,
   "metadata": {},
   "outputs": [
    {
     "data": {
      "text/plain": [
       "<seaborn.axisgrid.FacetGrid at 0x7f8e422edf10>"
      ]
     },
     "execution_count": 217,
     "metadata": {},
     "output_type": "execute_result"
    },
    {
     "data": {
      "image/png": "[encoded data removed]",
      "text/plain": [
       "<Figure size 360x360 with 1 Axes>"
      ]
     },
     "metadata": {
      "needs_background": "light"
     },
     "output_type": "display_data"
    },
    {
     "data": {
      "image/png": "[encoded data removed]",
      "text/plain": [
       "<Figure size 360x360 with 1 Axes>"
      ]
     },
     "metadata": {
      "needs_background": "light"
     },
     "output_type": "display_data"
    }
   ],
   "source": [
    "vresults['residual'] = vresults['predicted_v_per100'] -  vresults['actual_v_per100']\n",
    "sns.relplot(data=vresults, x='actual_v_per100', y='predicted_v_per100')\n",
    "plt.plot(np.linspace(0,40,5000),np.linspace(0,40,5000), color='gray')\n",
    "\n",
    "sns.relplot(data=vresults, x='actual_v_per100', y='residual')"
   ]
  },
  {
   "cell_type": "code",
   "execution_count": 206,
   "metadata": {},
   "outputs": [
    {
     "data": {
      "text/plain": [
       "array([  4.20987899,   4.62809273,   7.10323979,  -0.0584833 ,\n",
       "        -4.33681356,  11.43743181,   4.73334542, -22.19423554,\n",
       "        14.95128661])"
      ]
     },
     "execution_count": 206,
     "metadata": {},
     "output_type": "execute_result"
    }
   ],
   "source": [
    "linear_model_v.coef_"
   ]
  },
  {
   "cell_type": "code",
   "execution_count": null,
   "metadata": {},
   "outputs": [],
   "source": []
  }
 ],
 "metadata": {
  "kernelspec": {
   "display_name": "Python 3",
   "language": "python",
   "name": "python3"
  },
  "language_info": {
   "codemirror_mode": {
    "name": "ipython",
    "version": 3
   },
   "file_extension": ".py",
   "mimetype": "text/x-python",
   "name": "python",
   "nbconvert_exporter": "python",
   "pygments_lexer": "ipython3",
   "version": "3.8.1"
  }
 },
 "nbformat": 4,
 "nbformat_minor": 4
}
