{
 "cells": [
  {
   "cell_type": "markdown",
   "id": "forbidden-router",
   "metadata": {},
   "source": [
    "# ML Work"
   ]
  },
  {
   "cell_type": "markdown",
   "id": "alpha-benefit",
   "metadata": {},
   "source": [
    "## Predicting total vaccinations administered per hundred and total people vaccinated per hundred based on happiness factors "
   ]
  },
  {
   "cell_type": "markdown",
   "id": "ranging-ranking",
   "metadata": {},
   "source": [
    "### Splitting Data"
   ]
  },
  {
   "cell_type": "code",
   "execution_count": 1,
   "id": "numerous-steal",
   "metadata": {},
   "outputs": [],
   "source": [
    "import pandas as pd\n",
    "import seaborn as sns\n",
    "from sklearn.model_selection import train_test_split\n",
    "from sklearn.preprocessing import StandardScaler\n",
    "# import and prepare data\n",
    "happiness = pd.read_csv('happiness.csv')\n",
    "vaccinations = pd.read_csv('country_vaccinations.csv')\n",
    "vaccinations.head()\n",
    "total_vaccinations = vaccinations.groupby('country').max()[['total_vaccinations_per_hundred', 'people_vaccinated_per_hundred']]\n",
    "merged = pd.merge(happiness, total_vaccinations, left_on='location', right_on='country').dropna()\n",
    "data = merged[['Ladder score','Logged GDP per capita',  'Social support', 'Healthy life expectancy',\n",
    "       'Freedom to make life choices', 'Generosity', 'Perceptions of corruption', 'Ladder score in Dystopia', 'Explained by: Log GDP per capita', 'Explained by: Social support',\n",
    "       'Explained by: Healthy life expectancy',\n",
    "       'Explained by: Freedom to make life choices',\n",
    "       'Explained by: Generosity', 'Explained by: Perceptions of corruption']].values\n",
    "data = StandardScaler().fit_transform(data)\n",
    "target = merged[['total_vaccinations_per_hundred',\n",
    "       'people_vaccinated_per_hundred']].values\n",
    "train_data, test_data, train_target, test_target = train_test_split(data, target, test_size=.2, random_state=216)\n"
   ]
  },
  {
   "cell_type": "markdown",
   "id": "found-possession",
   "metadata": {},
   "source": [
    "### Linear Regression"
   ]
  },
  {
   "cell_type": "code",
   "execution_count": 2,
   "id": "painful-sentence",
   "metadata": {},
   "outputs": [
    {
     "name": "stdout",
     "output_type": "stream",
     "text": [
      "MSE: 520.5692281662408\n",
      "r2: 3.489358855152114e-05\n"
     ]
    }
   ],
   "source": [
    "# Training and Predicting model\n",
    "from sklearn.linear_model import LinearRegression\n",
    "from sklearn.metrics import mean_squared_error, r2_score\n",
    "model = LinearRegression().fit(X=train_data, y=train_target)\n",
    "predicted = model.predict(test_data)\n",
    "print('MSE:', mean_squared_error(test_target, predicted))\n",
    "print('r2:', r2_score(test_target, predicted))"
   ]
  },
  {
   "cell_type": "markdown",
   "id": "controlling-regression",
   "metadata": {},
   "source": [
    "### K Nearest Neighbors"
   ]
  },
  {
   "cell_type": "code",
   "execution_count": 3,
   "id": "narrow-fifth",
   "metadata": {},
   "outputs": [
    {
     "name": "stdout",
     "output_type": "stream",
     "text": [
      "{'n_neighbors': 2}\n",
      "MSE: 466.31633124999985\n",
      "r2: 0.0853212717459052\n"
     ]
    }
   ],
   "source": [
    "from sklearn.model_selection import GridSearchCV\n",
    "from sklearn.neighbors import KNeighborsRegressor\n",
    "knn = GridSearchCV(estimator=KNeighborsRegressor(), param_grid={'n_neighbors': range(1,30)})\n",
    "knn.fit(X=train_data, y=train_target)\n",
    "knn_predicted = knn.predict(test_data)\n",
    "print(knn.best_params_)\n",
    "print('MSE:', mean_squared_error(test_target, knn_predicted))\n",
    "print('r2:', r2_score(test_target, knn_predicted))"
   ]
  },
  {
   "cell_type": "markdown",
   "id": "satisfactory-cookie",
   "metadata": {},
   "source": [
    "### Polynomial Features"
   ]
  },
  {
   "cell_type": "code",
   "execution_count": 4,
   "id": "mysterious-cleveland",
   "metadata": {},
   "outputs": [
    {
     "name": "stdout",
     "output_type": "stream",
     "text": [
      "For Degree =  2\n",
      "MSE: 5361.750600052845\n",
      "r2: -10.329005458555335\n",
      "\n",
      "\n",
      "For Degree =  3\n",
      "MSE: 5651.850740386821\n",
      "r2: -10.961210674851952\n",
      "\n",
      "\n",
      "For Degree =  4\n",
      "MSE: 1188.4733105486152\n",
      "r2: -1.4482175375822213\n",
      "\n",
      "\n",
      "For Degree =  5\n",
      "MSE: 8445.681888037576\n",
      "r2: -16.95819019592493\n",
      "\n",
      "\n",
      "For Degree =  6\n",
      "MSE: 15946.990801320071\n",
      "r2: -33.36706197631512\n",
      "\n",
      "\n"
     ]
    }
   ],
   "source": [
    "from sklearn.preprocessing import PolynomialFeatures \n",
    "for i in range(2,7):\n",
    "    deg = i\n",
    "    poly_train_data = PolynomialFeatures(deg, include_bias=False).fit_transform(train_data)\n",
    "    poly_model = LinearRegression()\n",
    "    poly_model.fit(X=poly_train_data, y=train_target)\n",
    "    poly_test_data=PolynomialFeatures(deg, include_bias=False).fit_transform(test_data)\n",
    "    poly_predicted = poly_model.predict(poly_test_data)\n",
    "    print('For Degree = ', deg)\n",
    "    print('MSE:', mean_squared_error(test_target, poly_predicted))\n",
    "    print('r2:', r2_score(test_target, poly_predicted))\n",
    "    print('\\n')"
   ]
  },
  {
   "cell_type": "markdown",
   "id": "independent-jimmy",
   "metadata": {},
   "source": [
    "## Predicting happiness factors based on total vaccinations administered per hundred and total people vaccinated per hundred"
   ]
  },
  {
   "cell_type": "markdown",
   "id": "owned-intensity",
   "metadata": {},
   "source": [
    "### Splitting Data"
   ]
  },
  {
   "cell_type": "code",
   "execution_count": 5,
   "id": "engaged-recall",
   "metadata": {},
   "outputs": [],
   "source": [
    "target = merged[['Ladder score','Logged GDP per capita',  'Social support', 'Healthy life expectancy',\n",
    "       'Freedom to make life choices', 'Generosity', 'Perceptions of corruption', 'Ladder score in Dystopia', 'Explained by: Log GDP per capita', 'Explained by: Social support',\n",
    "       'Explained by: Healthy life expectancy',\n",
    "       'Explained by: Freedom to make life choices',\n",
    "       'Explained by: Generosity', 'Explained by: Perceptions of corruption']].values\n",
    "target = StandardScaler().fit_transform(data)\n",
    "data = merged[['total_vaccinations_per_hundred',\n",
    "       'people_vaccinated_per_hundred']].values\n",
    "train_data, test_data, train_target, test_target = train_test_split(data, target, test_size=.2, random_state=216)"
   ]
  },
  {
   "cell_type": "markdown",
   "id": "british-directory",
   "metadata": {},
   "source": [
    "### Linear Regression"
   ]
  },
  {
   "cell_type": "code",
   "execution_count": 6,
   "id": "prepared-hunter",
   "metadata": {},
   "outputs": [
    {
     "name": "stdout",
     "output_type": "stream",
     "text": [
      "MSE: 1.4764039062843943\n",
      "r2: -0.5262761143823431\n"
     ]
    }
   ],
   "source": [
    "# Training and Predicting model\n",
    "from sklearn.linear_model import LinearRegression\n",
    "from sklearn.metrics import mean_squared_error, r2_score\n",
    "model = LinearRegression().fit(X=train_data, y=train_target)\n",
    "predicted = model.predict(test_data)\n",
    "print('MSE:', mean_squared_error(test_target, predicted))\n",
    "print('r2:', r2_score(test_target, predicted))"
   ]
  },
  {
   "cell_type": "markdown",
   "id": "touched-armenia",
   "metadata": {},
   "source": [
    "### K Nearest Neighbors"
   ]
  },
  {
   "cell_type": "code",
   "execution_count": 7,
   "id": "unlikely-characteristic",
   "metadata": {},
   "outputs": [
    {
     "name": "stdout",
     "output_type": "stream",
     "text": [
      "{'n_neighbors': 18}\n",
      "MSE: 0.5960565996609892\n",
      "r2: 0.3699128041077057\n"
     ]
    }
   ],
   "source": [
    "from sklearn.model_selection import GridSearchCV\n",
    "from sklearn.neighbors import KNeighborsRegressor\n",
    "knn = GridSearchCV(estimator=KNeighborsRegressor(), param_grid={'n_neighbors': range(1,30)})\n",
    "knn.fit(X=train_data, y=train_target)\n",
    "knn_predicted = knn.predict(test_data)\n",
    "print(knn.best_params_)\n",
    "print('MSE:', mean_squared_error(test_target, knn_predicted))\n",
    "print('r2:', r2_score(test_target, knn_predicted))"
   ]
  },
  {
   "cell_type": "markdown",
   "id": "demographic-trailer",
   "metadata": {},
   "source": [
    "### Polynomial Features"
   ]
  },
  {
   "cell_type": "code",
   "execution_count": 8,
   "id": "common-portuguese",
   "metadata": {},
   "outputs": [
    {
     "name": "stdout",
     "output_type": "stream",
     "text": [
      "For Degree =  2\n",
      "MSE: 81.94002429456545\n",
      "r2: -82.99236974709474\n",
      "\n",
      "\n",
      "For Degree =  3\n",
      "MSE: 6071.183247909148\n",
      "r2: -7336.014118836958\n",
      "\n",
      "\n",
      "For Degree =  4\n",
      "MSE: 919433.6248285314\n",
      "r2: -1039326.1138012578\n",
      "\n",
      "\n",
      "For Degree =  5\n",
      "MSE: 1767180752.1918921\n",
      "r2: -2460787756.5286145\n",
      "\n",
      "\n",
      "For Degree =  6\n",
      "MSE: 16893327698838.531\n",
      "r2: -17531046343655.457\n",
      "\n",
      "\n",
      "For Degree =  7\n",
      "MSE: 2.2037783754269754e+17\n",
      "r2: -3.142626305124253e+17\n",
      "\n",
      "\n",
      "For Degree =  8\n",
      "MSE: 8.290509123698993e+19\n",
      "r2: -9.755071338228997e+19\n",
      "\n",
      "\n",
      "For Degree =  9\n",
      "MSE: 2.9015136085097243e+21\n",
      "r2: -3.151478268862857e+21\n",
      "\n",
      "\n"
     ]
    }
   ],
   "source": [
    "from sklearn.preprocessing import PolynomialFeatures \n",
    "for i in range(2,10):\n",
    "    deg = i\n",
    "    poly_train_data = PolynomialFeatures(deg, include_bias=False).fit_transform(train_data)\n",
    "    poly_model = LinearRegression()\n",
    "    poly_model.fit(X=poly_train_data, y=train_target)\n",
    "    poly_test_data=PolynomialFeatures(deg, include_bias=False).fit_transform(test_data)\n",
    "    poly_predicted = poly_model.predict(poly_test_data)\n",
    "    print('For Degree = ', deg)\n",
    "    print('MSE:', mean_squared_error(test_target, poly_predicted))\n",
    "    print('r2:', r2_score(test_target, poly_predicted))\n",
    "    print('\\n')"
   ]
  }
 ],
 "metadata": {
  "kernelspec": {
   "display_name": "Python 3",
   "language": "python",
   "name": "python3"
  },
  "language_info": {
   "codemirror_mode": {
    "name": "ipython",
    "version": 3
   },
   "file_extension": ".py",
   "mimetype": "text/x-python",
   "name": "python",
   "nbconvert_exporter": "python",
   "pygments_lexer": "ipython3",
   "version": "3.8.3"
  }
 },
 "nbformat": 4,
 "nbformat_minor": 5
}
