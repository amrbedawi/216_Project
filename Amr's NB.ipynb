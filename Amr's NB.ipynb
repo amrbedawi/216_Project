{
 "cells": [
  {
   "cell_type": "markdown",
   "metadata": {},
   "source": [
    "# ML Work"
   ]
  },
  {
   "cell_type": "markdown",
   "metadata": {},
   "source": [
    "## Predicting total vaccinations administered per hundred and total people vaccinated per hundred based on happiness factors "
   ]
  },
  {
   "cell_type": "markdown",
   "metadata": {},
   "source": [
    "### Splitting Data"
   ]
  },
  {
   "cell_type": "code",
   "execution_count": 1,
   "metadata": {},
   "outputs": [],
   "source": [
    "import pandas as pd\n",
    "import seaborn as sns\n",
    "from sklearn.model_selection import train_test_split\n",
    "from sklearn.preprocessing import StandardScaler\n",
    "# import and prepare data\n",
    "happiness = pd.read_csv('happiness.csv')\n",
    "vaccinations = pd.read_csv('country_vaccinations.csv')\n",
    "vaccinations.head()\n",
    "total_vaccinations = vaccinations.groupby('country').max()[['total_vaccinations_per_hundred', 'people_vaccinated_per_hundred']]\n",
    "merged = pd.merge(happiness, total_vaccinations, left_on='location', right_on='country').dropna()\n",
    "data = merged[['Ladder score','Logged GDP per capita',  'Social support', 'Healthy life expectancy',\n",
    "       'Freedom to make life choices', 'Generosity', 'Perceptions of corruption', 'Ladder score in Dystopia', 'Explained by: Log GDP per capita', 'Explained by: Social support',\n",
    "       'Explained by: Healthy life expectancy',\n",
    "       'Explained by: Freedom to make life choices',\n",
    "       'Explained by: Generosity', 'Explained by: Perceptions of corruption']].values\n",
    "data = StandardScaler().fit_transform(data)\n",
    "target = merged[['total_vaccinations_per_hundred',\n",
    "       'people_vaccinated_per_hundred']].values\n",
    "train_data, test_data, train_target, test_target = train_test_split(data, target, test_size=.2, random_state=216)\n"
   ]
  },
  {
   "cell_type": "markdown",
   "metadata": {},
   "source": [
    "### Linear Regression"
   ]
  },
  {
   "cell_type": "code",
   "execution_count": 2,
   "metadata": {},
   "outputs": [
    {
     "name": "stdout",
     "output_type": "stream",
     "text": [
      "MSE: 520.5692285323674\n",
      "r2: 3.4892832205479785e-05\n"
     ]
    }
   ],
   "source": [
    "# Training and Predicting model\n",
    "from sklearn.linear_model import LinearRegression\n",
    "from sklearn.metrics import mean_squared_error, r2_score\n",
    "model = LinearRegression().fit(X=train_data, y=train_target)\n",
    "predicted = model.predict(test_data)\n",
    "print('MSE:', mean_squared_error(test_target, predicted))\n",
    "print('r2:', r2_score(test_target, predicted))"
   ]
  },
  {
   "cell_type": "markdown",
   "metadata": {},
   "source": [
    "### K Nearest Neighbors"
   ]
  },
  {
   "cell_type": "code",
   "execution_count": 3,
   "metadata": {},
   "outputs": [
    {
     "name": "stdout",
     "output_type": "stream",
     "text": [
      "{'n_neighbors': 2}\n",
      "MSE: 466.31633124999985\n",
      "r2: 0.0853212717459052\n"
     ]
    }
   ],
   "source": [
    "from sklearn.model_selection import GridSearchCV\n",
    "from sklearn.neighbors import KNeighborsRegressor\n",
    "knn = GridSearchCV(estimator=KNeighborsRegressor(), param_grid={'n_neighbors': range(1,30)})\n",
    "knn.fit(X=train_data, y=train_target)\n",
    "knn_predicted = knn.predict(test_data)\n",
    "print(knn.best_params_)\n",
    "print('MSE:', mean_squared_error(test_target, knn_predicted))\n",
    "print('r2:', r2_score(test_target, knn_predicted))"
   ]
  },
  {
   "cell_type": "markdown",
   "metadata": {},
   "source": [
    "### Polynomial Features"
   ]
  },
  {
   "cell_type": "code",
   "execution_count": 4,
   "metadata": {},
   "outputs": [
    {
     "name": "stdout",
     "output_type": "stream",
     "text": [
      "For Degree =  2\n",
      "MSE: 5011.949209431219\n",
      "r2: -9.613458026593811\n",
      "\n",
      "\n",
      "For Degree =  3\n",
      "MSE: 4479.891749552626\n",
      "r2: -8.455276556870581\n",
      "\n",
      "\n",
      "For Degree =  4\n",
      "MSE: 911.1023092229955\n",
      "r2: -0.8704910390827177\n",
      "\n",
      "\n",
      "For Degree =  5\n",
      "MSE: 4115.653387715832\n",
      "r2: -7.305441369510589\n",
      "\n",
      "\n",
      "For Degree =  6\n",
      "MSE: 8062.783731128486\n",
      "r2: -16.009018052741585\n",
      "\n",
      "\n"
     ]
    }
   ],
   "source": [
    "from sklearn.preprocessing import PolynomialFeatures \n",
    "for i in range(2,7):\n",
    "    deg = i\n",
    "    poly_train_data = PolynomialFeatures(deg, include_bias=False).fit_transform(train_data)\n",
    "    poly_model = LinearRegression()\n",
    "    poly_model.fit(X=poly_train_data, y=train_target)\n",
    "    poly_test_data=PolynomialFeatures(deg, include_bias=False).fit_transform(test_data)\n",
    "    poly_predicted = poly_model.predict(poly_test_data)\n",
    "    print('For Degree = ', deg)\n",
    "    print('MSE:', mean_squared_error(test_target, poly_predicted))\n",
    "    print('r2:', r2_score(test_target, poly_predicted))\n",
    "    print('\\n')"
   ]
  },
  {
   "cell_type": "markdown",
   "metadata": {},
   "source": [
    "### Convolutional Neural Network"
   ]
  },
  {
   "cell_type": "code",
   "execution_count": 5,
   "metadata": {},
   "outputs": [
    {
     "ename": "ModuleNotFoundError",
     "evalue": "No module named 'torch'",
     "output_type": "error",
     "traceback": [
      "\u001b[0;31m---------------------------------------------------------------------------\u001b[0m",
      "\u001b[0;31mModuleNotFoundError\u001b[0m                       Traceback (most recent call last)",
      "\u001b[0;32m<ipython-input-5-5c7a791b39ee>\u001b[0m in \u001b[0;36m<module>\u001b[0;34m\u001b[0m\n\u001b[1;32m      1\u001b[0m \u001b[0;31m#import\u001b[0m\u001b[0;34m\u001b[0m\u001b[0;34m\u001b[0m\u001b[0;34m\u001b[0m\u001b[0m\n\u001b[0;32m----> 2\u001b[0;31m \u001b[0;32mimport\u001b[0m \u001b[0mtorch\u001b[0m\u001b[0;34m\u001b[0m\u001b[0;34m\u001b[0m\u001b[0m\n\u001b[0m\u001b[1;32m      3\u001b[0m \u001b[0;32mimport\u001b[0m \u001b[0mtorchvision\u001b[0m\u001b[0;34m\u001b[0m\u001b[0;34m\u001b[0m\u001b[0m\n\u001b[1;32m      4\u001b[0m \u001b[0;32mimport\u001b[0m \u001b[0mtorchvision\u001b[0m\u001b[0;34m.\u001b[0m\u001b[0mtransforms\u001b[0m \u001b[0;32mas\u001b[0m \u001b[0mtransforms\u001b[0m\u001b[0;34m\u001b[0m\u001b[0;34m\u001b[0m\u001b[0m\n\u001b[1;32m      5\u001b[0m \u001b[0;32mimport\u001b[0m \u001b[0mtorch\u001b[0m\u001b[0;34m.\u001b[0m\u001b[0mnn\u001b[0m \u001b[0;32mas\u001b[0m \u001b[0mnn\u001b[0m\u001b[0;34m\u001b[0m\u001b[0;34m\u001b[0m\u001b[0m\n",
      "\u001b[0;31mModuleNotFoundError\u001b[0m: No module named 'torch'"
     ]
    }
   ],
   "source": [
    "#import\n",
    "import torch\n",
    "import torchvision\n",
    "import torchvision.transforms as transforms\n",
    "import torch.nn as nn\n",
    "import torch.optim as optim"
   ]
  },
  {
   "cell_type": "code",
   "execution_count": null,
   "metadata": {},
   "outputs": [],
   "source": []
  },
  {
   "cell_type": "markdown",
   "metadata": {},
   "source": [
    "## Predicting happiness factors based on total vaccinations administered per hundred and total people vaccinated per hundred"
   ]
  },
  {
   "cell_type": "markdown",
   "metadata": {},
   "source": [
    "### Splitting Data"
   ]
  },
  {
   "cell_type": "code",
   "execution_count": null,
   "metadata": {},
   "outputs": [],
   "source": [
    "target = merged[['Ladder score','Logged GDP per capita',  'Social support', 'Healthy life expectancy',\n",
    "       'Freedom to make life choices', 'Generosity', 'Perceptions of corruption', 'Ladder score in Dystopia', 'Explained by: Log GDP per capita', 'Explained by: Social support',\n",
    "       'Explained by: Healthy life expectancy',\n",
    "       'Explained by: Freedom to make life choices',\n",
    "       'Explained by: Generosity', 'Explained by: Perceptions of corruption']].values\n",
    "target = StandardScaler().fit_transform(data)\n",
    "data = merged[['total_vaccinations_per_hundred',\n",
    "       'people_vaccinated_per_hundred']].values\n",
    "train_data, test_data, train_target, test_target = train_test_split(data, target, test_size=.2, random_state=216)"
   ]
  },
  {
   "cell_type": "markdown",
   "metadata": {},
   "source": [
    "### Linear Regression"
   ]
  },
  {
   "cell_type": "code",
   "execution_count": null,
   "metadata": {},
   "outputs": [],
   "source": [
    "# Training and Predicting model\n",
    "from sklearn.linear_model import LinearRegression\n",
    "from sklearn.metrics import mean_squared_error, r2_score\n",
    "model = LinearRegression().fit(X=train_data, y=train_target)\n",
    "predicted = model.predict(test_data)\n",
    "print('MSE:', mean_squared_error(test_target, predicted))\n",
    "print('r2:', r2_score(test_target, predicted))"
   ]
  },
  {
   "cell_type": "markdown",
   "metadata": {},
   "source": [
    "### K Nearest Neighbors"
   ]
  },
  {
   "cell_type": "code",
   "execution_count": null,
   "metadata": {},
   "outputs": [],
   "source": [
    "from sklearn.model_selection import GridSearchCV\n",
    "from sklearn.neighbors import KNeighborsRegressor\n",
    "knn = GridSearchCV(estimator=KNeighborsRegressor(), param_grid={'n_neighbors': range(1,30)})\n",
    "knn.fit(X=train_data, y=train_target)\n",
    "knn_predicted = knn.predict(test_data)\n",
    "print(knn.best_params_)\n",
    "print('MSE:', mean_squared_error(test_target, knn_predicted))\n",
    "print('r2:', r2_score(test_target, knn_predicted))"
   ]
  },
  {
   "cell_type": "markdown",
   "metadata": {},
   "source": [
    "### Polynomial Features"
   ]
  },
  {
   "cell_type": "code",
   "execution_count": null,
   "metadata": {},
   "outputs": [],
   "source": [
    "from sklearn.preprocessing import PolynomialFeatures \n",
    "for i in range(2,10):\n",
    "    deg = i\n",
    "    poly_train_data = PolynomialFeatures(deg, include_bias=False).fit_transform(train_data)\n",
    "    poly_model = LinearRegression()\n",
    "    poly_model.fit(X=poly_train_data, y=train_target)\n",
    "    poly_test_data=PolynomialFeatures(deg, include_bias=False).fit_transform(test_data)\n",
    "    poly_predicted = poly_model.predict(poly_test_data)\n",
    "    print('For Degree = ', deg)\n",
    "    print('MSE:', mean_squared_error(test_target, poly_predicted))\n",
    "    print('r2:', r2_score(test_target, poly_predicted))\n",
    "    print('\\n')"
   ]
  },
  {
   "cell_type": "code",
   "execution_count": null,
   "metadata": {},
   "outputs": [],
   "source": []
  }
 ],
 "metadata": {
  "kernelspec": {
   "display_name": "Python 3",
   "language": "python",
   "name": "python3"
  },
  "language_info": {
   "codemirror_mode": {
    "name": "ipython",
    "version": 3
   },
   "file_extension": ".py",
   "mimetype": "text/x-python",
   "name": "python",
   "nbconvert_exporter": "python",
   "pygments_lexer": "ipython3",
   "version": "3.8.5"
  }
 },
 "nbformat": 4,
 "nbformat_minor": 5
}
